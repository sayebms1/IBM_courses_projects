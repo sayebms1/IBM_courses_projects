{
 "cells": [
  {
   "cell_type": "markdown",
   "metadata": {},
   "source": [
    "##  Toronto Neighborhoods Segmenting and Clustering  "
   ]
  },
  {
   "cell_type": "markdown",
   "metadata": {},
   "source": [
    "#### *Author: Mohammad Sayeb*"
   ]
  },
  {
   "cell_type": "markdown",
   "metadata": {},
   "source": [
    "#### Let's import the relevant modules"
   ]
  },
  {
   "cell_type": "code",
   "execution_count": 1,
   "metadata": {},
   "outputs": [
    {
     "name": "stdout",
     "output_type": "stream",
     "text": [
      "Defaulting to user installation because normal site-packages is not writeable\n",
      "Requirement already satisfied: geopy in /Users/sayebms1/Library/Python/3.7/lib/python/site-packages (2.0.0)\n",
      "Requirement already satisfied: geographiclib<2,>=1.49 in /Users/sayebms1/Library/Python/3.7/lib/python/site-packages (from geopy) (1.50)\n"
     ]
    }
   ],
   "source": [
    "import numpy as np #for dealing with multidimensional arrays and matrices\n",
    "import pandas as pd #pandas data frame from efficient dataframe manipulation\n",
    "pd.set_option('display.max_columns', None)\n",
    "pd.set_option('display.max_rows', None)\n",
    "import json # library to handle JSON files\n",
    "import geocoder # convert an address into latitude and longitude values\n",
    "!pip3 install geopy\n",
    "from geopy.geocoders import Nominatim # convert an address into latitude and longitude values\n",
    "import requests #requesting information from webpages \n",
    "from pandas.io.json import json_normalize # tranform JSON file into a pandas dataframe\n",
    "\n",
    "import plotly #visualization tool\n",
    "\n",
    "# Matplotlib and associated plotting modules\n",
    "import matplotlib \n",
    "import matplotlib.cm as cm\n",
    "import matplotlib.colors as colors\n",
    "import matplotlib.pyplot as plt\n",
    "\n",
    "# import k-means from clustering stage\n",
    "from sklearn.cluster import KMeans\n",
    "\n",
    "import folium # map rendering library\n",
    "\n",
    "#tools for scrapping website for data\n",
    "import bs4 #beautiful soup library for website scraping \n",
    "from bs4 import BeautifulSoup #scraping tool\n",
    "import lxml #needed to convert html bs4 object to data frame\n"
   ]
  },
  {
   "cell_type": "markdown",
   "metadata": {},
   "source": [
    "## Section 1"
   ]
  },
  {
   "cell_type": "markdown",
   "metadata": {},
   "source": [
    "We scrape table data from the wiki page and assign it to a DataFrame table"
   ]
  },
  {
   "cell_type": "code",
   "execution_count": 2,
   "metadata": {},
   "outputs": [],
   "source": [
    "URL='https://en.wikipedia.org/wiki/List_of_postal_codes_of_Canada:_M'\n",
    "page = requests.get(URL)\n",
    "soup = BeautifulSoup(page.content, 'html.parser')"
   ]
  },
  {
   "cell_type": "code",
   "execution_count": 3,
   "metadata": {},
   "outputs": [],
   "source": [
    "table = soup.find_all('table')"
   ]
  },
  {
   "cell_type": "code",
   "execution_count": 4,
   "metadata": {},
   "outputs": [],
   "source": [
    "df = pd.read_html(str(table))[0]"
   ]
  },
  {
   "cell_type": "code",
   "execution_count": 5,
   "metadata": {},
   "outputs": [
    {
     "data": {
      "text/plain": [
       "(180, 3)"
      ]
     },
     "execution_count": 5,
     "metadata": {},
     "output_type": "execute_result"
    }
   ],
   "source": [
    "df.shape"
   ]
  },
  {
   "cell_type": "markdown",
   "metadata": {},
   "source": [
    "Ignore the rows that don't have an assigned borough"
   ]
  },
  {
   "cell_type": "code",
   "execution_count": 6,
   "metadata": {},
   "outputs": [
    {
     "name": "stdout",
     "output_type": "stream",
     "text": [
      "(103, 3)\n"
     ]
    },
    {
     "data": {
      "text/html": [
       "<div>\n",
       "<style scoped>\n",
       "    .dataframe tbody tr th:only-of-type {\n",
       "        vertical-align: middle;\n",
       "    }\n",
       "\n",
       "    .dataframe tbody tr th {\n",
       "        vertical-align: top;\n",
       "    }\n",
       "\n",
       "    .dataframe thead th {\n",
       "        text-align: right;\n",
       "    }\n",
       "</style>\n",
       "<table border=\"1\" class=\"dataframe\">\n",
       "  <thead>\n",
       "    <tr style=\"text-align: right;\">\n",
       "      <th></th>\n",
       "      <th>Postal Code</th>\n",
       "      <th>Borough</th>\n",
       "      <th>Neighbourhood</th>\n",
       "    </tr>\n",
       "  </thead>\n",
       "  <tbody>\n",
       "    <tr>\n",
       "      <th>2</th>\n",
       "      <td>M3A</td>\n",
       "      <td>North York</td>\n",
       "      <td>Parkwoods</td>\n",
       "    </tr>\n",
       "    <tr>\n",
       "      <th>3</th>\n",
       "      <td>M4A</td>\n",
       "      <td>North York</td>\n",
       "      <td>Victoria Village</td>\n",
       "    </tr>\n",
       "    <tr>\n",
       "      <th>4</th>\n",
       "      <td>M5A</td>\n",
       "      <td>Downtown Toronto</td>\n",
       "      <td>Regent Park, Harbourfront</td>\n",
       "    </tr>\n",
       "    <tr>\n",
       "      <th>5</th>\n",
       "      <td>M6A</td>\n",
       "      <td>North York</td>\n",
       "      <td>Lawrence Manor, Lawrence Heights</td>\n",
       "    </tr>\n",
       "    <tr>\n",
       "      <th>6</th>\n",
       "      <td>M7A</td>\n",
       "      <td>Downtown Toronto</td>\n",
       "      <td>Queen's Park, Ontario Provincial Government</td>\n",
       "    </tr>\n",
       "  </tbody>\n",
       "</table>\n",
       "</div>"
      ],
      "text/plain": [
       "  Postal Code           Borough                                Neighbourhood\n",
       "2         M3A        North York                                    Parkwoods\n",
       "3         M4A        North York                             Victoria Village\n",
       "4         M5A  Downtown Toronto                    Regent Park, Harbourfront\n",
       "5         M6A        North York             Lawrence Manor, Lawrence Heights\n",
       "6         M7A  Downtown Toronto  Queen's Park, Ontario Provincial Government"
      ]
     },
     "execution_count": 6,
     "metadata": {},
     "output_type": "execute_result"
    }
   ],
   "source": [
    "df = df[df['Borough']!='Not assigned']\n",
    "print (df.shape)\n",
    "df.head()"
   ]
  },
  {
   "cell_type": "markdown",
   "metadata": {},
   "source": [
    "Now we would like to put the neighborhoods that belong to the same postal code in the same row separated by commas. The fist step here is to see if there are any duplicated values for the Postal Codes."
   ]
  },
  {
   "cell_type": "code",
   "execution_count": 7,
   "metadata": {},
   "outputs": [
    {
     "data": {
      "text/plain": [
       "Series([], dtype: bool)"
      ]
     },
     "execution_count": 7,
     "metadata": {},
     "output_type": "execute_result"
    }
   ],
   "source": [
    "duplicate_boolean = df.duplicated(subset=None, keep='first')\n",
    "duplicate_boolean[duplicate_boolean ==True]"
   ]
  },
  {
   "cell_type": "markdown",
   "metadata": {},
   "source": [
    "We see that there are no duplicated postal code values we don't need to worry about combining the Neighbourhoods that belong to the same Postal Code into one row separated by commas"
   ]
  },
  {
   "cell_type": "markdown",
   "metadata": {},
   "source": [
    "If a cell has a borough but a Not assigned neighbourhood, then the neighborhood will be the same as the borough"
   ]
  },
  {
   "cell_type": "code",
   "execution_count": 8,
   "metadata": {},
   "outputs": [
    {
     "data": {
      "text/html": [
       "<div>\n",
       "<style scoped>\n",
       "    .dataframe tbody tr th:only-of-type {\n",
       "        vertical-align: middle;\n",
       "    }\n",
       "\n",
       "    .dataframe tbody tr th {\n",
       "        vertical-align: top;\n",
       "    }\n",
       "\n",
       "    .dataframe thead th {\n",
       "        text-align: right;\n",
       "    }\n",
       "</style>\n",
       "<table border=\"1\" class=\"dataframe\">\n",
       "  <thead>\n",
       "    <tr style=\"text-align: right;\">\n",
       "      <th></th>\n",
       "      <th>Postal Code</th>\n",
       "      <th>Borough</th>\n",
       "      <th>Neighbourhood</th>\n",
       "    </tr>\n",
       "  </thead>\n",
       "  <tbody>\n",
       "  </tbody>\n",
       "</table>\n",
       "</div>"
      ],
      "text/plain": [
       "Empty DataFrame\n",
       "Columns: [Postal Code, Borough, Neighbourhood]\n",
       "Index: []"
      ]
     },
     "execution_count": 8,
     "metadata": {},
     "output_type": "execute_result"
    }
   ],
   "source": [
    "df[df['Neighbourhood']=='Not assigned']"
   ]
  },
  {
   "cell_type": "markdown",
   "metadata": {},
   "source": [
    "There are no rows with a Not assinged neighbourhood"
   ]
  },
  {
   "cell_type": "code",
   "execution_count": 9,
   "metadata": {},
   "outputs": [
    {
     "name": "stdout",
     "output_type": "stream",
     "text": [
      "the data frame has 103 rows and 3 columns\n"
     ]
    },
    {
     "data": {
      "text/plain": [
       "(103, 3)"
      ]
     },
     "execution_count": 9,
     "metadata": {},
     "output_type": "execute_result"
    }
   ],
   "source": [
    "print ('the data frame has {} rows and {} columns'.format(df.shape[0],df.shape[1]))\n",
    "df.shape"
   ]
  },
  {
   "cell_type": "markdown",
   "metadata": {},
   "source": [
    "## Section 2"
   ]
  },
  {
   "cell_type": "markdown",
   "metadata": {},
   "source": [
    "Now let's try to get the lattitude and Longitude for each neightbourhood"
   ]
  },
  {
   "cell_type": "code",
   "execution_count": 10,
   "metadata": {},
   "outputs": [
    {
     "data": {
      "text/html": [
       "<div>\n",
       "<style scoped>\n",
       "    .dataframe tbody tr th:only-of-type {\n",
       "        vertical-align: middle;\n",
       "    }\n",
       "\n",
       "    .dataframe tbody tr th {\n",
       "        vertical-align: top;\n",
       "    }\n",
       "\n",
       "    .dataframe thead th {\n",
       "        text-align: right;\n",
       "    }\n",
       "</style>\n",
       "<table border=\"1\" class=\"dataframe\">\n",
       "  <thead>\n",
       "    <tr style=\"text-align: right;\">\n",
       "      <th></th>\n",
       "      <th>Postal Code</th>\n",
       "      <th>Borough</th>\n",
       "      <th>Neighbourhood</th>\n",
       "    </tr>\n",
       "  </thead>\n",
       "  <tbody>\n",
       "    <tr>\n",
       "      <th>2</th>\n",
       "      <td>M3A</td>\n",
       "      <td>North York</td>\n",
       "      <td>Parkwoods</td>\n",
       "    </tr>\n",
       "    <tr>\n",
       "      <th>3</th>\n",
       "      <td>M4A</td>\n",
       "      <td>North York</td>\n",
       "      <td>Victoria Village</td>\n",
       "    </tr>\n",
       "    <tr>\n",
       "      <th>4</th>\n",
       "      <td>M5A</td>\n",
       "      <td>Downtown Toronto</td>\n",
       "      <td>Regent Park, Harbourfront</td>\n",
       "    </tr>\n",
       "    <tr>\n",
       "      <th>5</th>\n",
       "      <td>M6A</td>\n",
       "      <td>North York</td>\n",
       "      <td>Lawrence Manor, Lawrence Heights</td>\n",
       "    </tr>\n",
       "    <tr>\n",
       "      <th>6</th>\n",
       "      <td>M7A</td>\n",
       "      <td>Downtown Toronto</td>\n",
       "      <td>Queen's Park, Ontario Provincial Government</td>\n",
       "    </tr>\n",
       "  </tbody>\n",
       "</table>\n",
       "</div>"
      ],
      "text/plain": [
       "  Postal Code           Borough                                Neighbourhood\n",
       "2         M3A        North York                                    Parkwoods\n",
       "3         M4A        North York                             Victoria Village\n",
       "4         M5A  Downtown Toronto                    Regent Park, Harbourfront\n",
       "5         M6A        North York             Lawrence Manor, Lawrence Heights\n",
       "6         M7A  Downtown Toronto  Queen's Park, Ontario Provincial Government"
      ]
     },
     "execution_count": 10,
     "metadata": {},
     "output_type": "execute_result"
    }
   ],
   "source": [
    "df.head()"
   ]
  },
  {
   "cell_type": "markdown",
   "metadata": {},
   "source": [
    "We use geocoder to get the longitude and latitude for each postal code. "
   ]
  },
  {
   "cell_type": "code",
   "execution_count": 11,
   "metadata": {},
   "outputs": [],
   "source": [
    "latitude=[]\n",
    "longitude=[]\n",
    "for postal_code in df['Postal Code']:\n",
    "\n",
    "    # initialize your variable to None\n",
    "    lat_lng_coords = None\n",
    "#     print ('{}, Toronto, Ontario'.format(postal_code))\n",
    "    # loop until you get the coordinates\n",
    "    while(lat_lng_coords is None):\n",
    "      g = geocoder.arcgis('{}, Toronto, Ontario'.format(postal_code))\n",
    "      lat_lng_coords = g.latlng\n",
    "\n",
    "    latitude.append( lat_lng_coords[0])\n",
    "    longitude.append( lat_lng_coords[1])"
   ]
  },
  {
   "cell_type": "code",
   "execution_count": 12,
   "metadata": {},
   "outputs": [
    {
     "data": {
      "text/html": [
       "<div>\n",
       "<style scoped>\n",
       "    .dataframe tbody tr th:only-of-type {\n",
       "        vertical-align: middle;\n",
       "    }\n",
       "\n",
       "    .dataframe tbody tr th {\n",
       "        vertical-align: top;\n",
       "    }\n",
       "\n",
       "    .dataframe thead th {\n",
       "        text-align: right;\n",
       "    }\n",
       "</style>\n",
       "<table border=\"1\" class=\"dataframe\">\n",
       "  <thead>\n",
       "    <tr style=\"text-align: right;\">\n",
       "      <th></th>\n",
       "      <th>Postal Code</th>\n",
       "      <th>Borough</th>\n",
       "      <th>Neighbourhood</th>\n",
       "      <th>latitude</th>\n",
       "      <th>longitude</th>\n",
       "    </tr>\n",
       "  </thead>\n",
       "  <tbody>\n",
       "    <tr>\n",
       "      <th>2</th>\n",
       "      <td>M3A</td>\n",
       "      <td>North York</td>\n",
       "      <td>Parkwoods</td>\n",
       "      <td>43.75245</td>\n",
       "      <td>-79.32991</td>\n",
       "    </tr>\n",
       "    <tr>\n",
       "      <th>3</th>\n",
       "      <td>M4A</td>\n",
       "      <td>North York</td>\n",
       "      <td>Victoria Village</td>\n",
       "      <td>43.73057</td>\n",
       "      <td>-79.31306</td>\n",
       "    </tr>\n",
       "    <tr>\n",
       "      <th>4</th>\n",
       "      <td>M5A</td>\n",
       "      <td>Downtown Toronto</td>\n",
       "      <td>Regent Park, Harbourfront</td>\n",
       "      <td>43.65512</td>\n",
       "      <td>-79.36264</td>\n",
       "    </tr>\n",
       "    <tr>\n",
       "      <th>5</th>\n",
       "      <td>M6A</td>\n",
       "      <td>North York</td>\n",
       "      <td>Lawrence Manor, Lawrence Heights</td>\n",
       "      <td>43.72327</td>\n",
       "      <td>-79.45042</td>\n",
       "    </tr>\n",
       "    <tr>\n",
       "      <th>6</th>\n",
       "      <td>M7A</td>\n",
       "      <td>Downtown Toronto</td>\n",
       "      <td>Queen's Park, Ontario Provincial Government</td>\n",
       "      <td>43.66253</td>\n",
       "      <td>-79.39188</td>\n",
       "    </tr>\n",
       "  </tbody>\n",
       "</table>\n",
       "</div>"
      ],
      "text/plain": [
       "  Postal Code           Borough                                Neighbourhood  \\\n",
       "2         M3A        North York                                    Parkwoods   \n",
       "3         M4A        North York                             Victoria Village   \n",
       "4         M5A  Downtown Toronto                    Regent Park, Harbourfront   \n",
       "5         M6A        North York             Lawrence Manor, Lawrence Heights   \n",
       "6         M7A  Downtown Toronto  Queen's Park, Ontario Provincial Government   \n",
       "\n",
       "   latitude  longitude  \n",
       "2  43.75245  -79.32991  \n",
       "3  43.73057  -79.31306  \n",
       "4  43.65512  -79.36264  \n",
       "5  43.72327  -79.45042  \n",
       "6  43.66253  -79.39188  "
      ]
     },
     "execution_count": 12,
     "metadata": {},
     "output_type": "execute_result"
    }
   ],
   "source": [
    "df['latitude'] = latitude\n",
    "df['longitude'] = longitude\n",
    "df.head()"
   ]
  },
  {
   "cell_type": "code",
   "execution_count": 13,
   "metadata": {},
   "outputs": [],
   "source": [
    "df.reset_index(inplace=True)\n",
    "df.drop(columns='index', inplace=True)"
   ]
  },
  {
   "cell_type": "code",
   "execution_count": 14,
   "metadata": {},
   "outputs": [
    {
     "data": {
      "text/html": [
       "<div>\n",
       "<style scoped>\n",
       "    .dataframe tbody tr th:only-of-type {\n",
       "        vertical-align: middle;\n",
       "    }\n",
       "\n",
       "    .dataframe tbody tr th {\n",
       "        vertical-align: top;\n",
       "    }\n",
       "\n",
       "    .dataframe thead th {\n",
       "        text-align: right;\n",
       "    }\n",
       "</style>\n",
       "<table border=\"1\" class=\"dataframe\">\n",
       "  <thead>\n",
       "    <tr style=\"text-align: right;\">\n",
       "      <th></th>\n",
       "      <th>Postal Code</th>\n",
       "      <th>Borough</th>\n",
       "      <th>Neighbourhood</th>\n",
       "      <th>latitude</th>\n",
       "      <th>longitude</th>\n",
       "    </tr>\n",
       "  </thead>\n",
       "  <tbody>\n",
       "    <tr>\n",
       "      <th>0</th>\n",
       "      <td>M3A</td>\n",
       "      <td>North York</td>\n",
       "      <td>Parkwoods</td>\n",
       "      <td>43.75245</td>\n",
       "      <td>-79.32991</td>\n",
       "    </tr>\n",
       "    <tr>\n",
       "      <th>1</th>\n",
       "      <td>M4A</td>\n",
       "      <td>North York</td>\n",
       "      <td>Victoria Village</td>\n",
       "      <td>43.73057</td>\n",
       "      <td>-79.31306</td>\n",
       "    </tr>\n",
       "    <tr>\n",
       "      <th>2</th>\n",
       "      <td>M5A</td>\n",
       "      <td>Downtown Toronto</td>\n",
       "      <td>Regent Park, Harbourfront</td>\n",
       "      <td>43.65512</td>\n",
       "      <td>-79.36264</td>\n",
       "    </tr>\n",
       "    <tr>\n",
       "      <th>3</th>\n",
       "      <td>M6A</td>\n",
       "      <td>North York</td>\n",
       "      <td>Lawrence Manor, Lawrence Heights</td>\n",
       "      <td>43.72327</td>\n",
       "      <td>-79.45042</td>\n",
       "    </tr>\n",
       "    <tr>\n",
       "      <th>4</th>\n",
       "      <td>M7A</td>\n",
       "      <td>Downtown Toronto</td>\n",
       "      <td>Queen's Park, Ontario Provincial Government</td>\n",
       "      <td>43.66253</td>\n",
       "      <td>-79.39188</td>\n",
       "    </tr>\n",
       "  </tbody>\n",
       "</table>\n",
       "</div>"
      ],
      "text/plain": [
       "  Postal Code           Borough                                Neighbourhood  \\\n",
       "0         M3A        North York                                    Parkwoods   \n",
       "1         M4A        North York                             Victoria Village   \n",
       "2         M5A  Downtown Toronto                    Regent Park, Harbourfront   \n",
       "3         M6A        North York             Lawrence Manor, Lawrence Heights   \n",
       "4         M7A  Downtown Toronto  Queen's Park, Ontario Provincial Government   \n",
       "\n",
       "   latitude  longitude  \n",
       "0  43.75245  -79.32991  \n",
       "1  43.73057  -79.31306  \n",
       "2  43.65512  -79.36264  \n",
       "3  43.72327  -79.45042  \n",
       "4  43.66253  -79.39188  "
      ]
     },
     "execution_count": 14,
     "metadata": {},
     "output_type": "execute_result"
    }
   ],
   "source": [
    "df.head()"
   ]
  },
  {
   "cell_type": "markdown",
   "metadata": {},
   "source": [
    "## Section 3"
   ]
  },
  {
   "cell_type": "markdown",
   "metadata": {},
   "source": [
    "get latitude and longitude of Toronto"
   ]
  },
  {
   "cell_type": "code",
   "execution_count": 15,
   "metadata": {},
   "outputs": [
    {
     "name": "stdout",
     "output_type": "stream",
     "text": [
      "The geograpical coordinate of Toronto  are 43.6534817, -79.3839347.\n"
     ]
    }
   ],
   "source": [
    "address = 'Toronto, ON'\n",
    "\n",
    "geolocator = Nominatim(user_agent=\"ny_explorer\")\n",
    "location = geolocator.geocode(address)\n",
    "latitude = location.latitude\n",
    "longitude = location.longitude\n",
    "print('The geograpical coordinate of Toronto  are {}, {}.'.format(latitude, longitude))"
   ]
  },
  {
   "cell_type": "code",
   "execution_count": 16,
   "metadata": {},
   "outputs": [
    {
     "data": {
      "text/html": [
       "<div style=\"width:100%;\"><div style=\"position:relative;width:100%;height:0;padding-bottom:60%;\"><span style=\"color:#565656\">Make this Notebook Trusted to load map: File -> Trust Notebook</span><iframe src=\"about:blank\" style=\"position:absolute;width:100%;height:100%;left:0;top:0;border:none !important;\" data-html=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 onload=\"this.contentDocument.open();this.contentDocument.write(atob(this.getAttribute('data-html')));this.contentDocument.close();\" allowfullscreen webkitallowfullscreen mozallowfullscreen></iframe></div></div>"
      ],
      "text/plain": [
       "<folium.folium.Map at 0x123ddb4d0>"
      ]
     },
     "execution_count": 16,
     "metadata": {},
     "output_type": "execute_result"
    }
   ],
   "source": [
    "# create map of New York using latitude and longitude values\n",
    "map_toronto = folium.Map(tiles = 'StamenTerrain', location=[latitude, longitude], zoom_start=10)\n",
    "\n",
    "# add markers to map\n",
    "for lat, lng, borough, neighborhood in zip(df['latitude'], df['longitude'], df['Borough'], df['Neighbourhood']):\n",
    "    label = '{}, {}'.format(neighborhood, borough)\n",
    "    label = folium.Popup(label, parse_html=True)\n",
    "    folium.CircleMarker(\n",
    "        [lat, lng],\n",
    "        radius=5,\n",
    "        popup=label,\n",
    "        color='blue',\n",
    "        fill=True,\n",
    "        fill_color='#3186cc',\n",
    "        fill_opacity=0.7,\n",
    "        parse_html=False).add_to(map_toronto)\n",
    "    \n",
    "map_toronto"
   ]
  },
  {
   "cell_type": "markdown",
   "metadata": {},
   "source": [
    "However, for illustration purposes, let's simplify the above map and segment and cluster only the neighborhoods in Toronto. So let's slice the original dataframe and create a new dataframe of the Toronto data."
   ]
  },
  {
   "cell_type": "code",
   "execution_count": 17,
   "metadata": {},
   "outputs": [],
   "source": [
    "df_toronto = df[df['Borough'].str.contains('oronto')]"
   ]
  },
  {
   "cell_type": "code",
   "execution_count": 18,
   "metadata": {},
   "outputs": [
    {
     "data": {
      "text/html": [
       "<div>\n",
       "<style scoped>\n",
       "    .dataframe tbody tr th:only-of-type {\n",
       "        vertical-align: middle;\n",
       "    }\n",
       "\n",
       "    .dataframe tbody tr th {\n",
       "        vertical-align: top;\n",
       "    }\n",
       "\n",
       "    .dataframe thead th {\n",
       "        text-align: right;\n",
       "    }\n",
       "</style>\n",
       "<table border=\"1\" class=\"dataframe\">\n",
       "  <thead>\n",
       "    <tr style=\"text-align: right;\">\n",
       "      <th></th>\n",
       "      <th>Postal Code</th>\n",
       "      <th>Borough</th>\n",
       "      <th>Neighbourhood</th>\n",
       "      <th>latitude</th>\n",
       "      <th>longitude</th>\n",
       "    </tr>\n",
       "  </thead>\n",
       "  <tbody>\n",
       "    <tr>\n",
       "      <th>0</th>\n",
       "      <td>M5A</td>\n",
       "      <td>Downtown Toronto</td>\n",
       "      <td>Regent Park, Harbourfront</td>\n",
       "      <td>43.65512</td>\n",
       "      <td>-79.36264</td>\n",
       "    </tr>\n",
       "    <tr>\n",
       "      <th>1</th>\n",
       "      <td>M7A</td>\n",
       "      <td>Downtown Toronto</td>\n",
       "      <td>Queen's Park, Ontario Provincial Government</td>\n",
       "      <td>43.66253</td>\n",
       "      <td>-79.39188</td>\n",
       "    </tr>\n",
       "    <tr>\n",
       "      <th>2</th>\n",
       "      <td>M5B</td>\n",
       "      <td>Downtown Toronto</td>\n",
       "      <td>Garden District, Ryerson</td>\n",
       "      <td>43.65739</td>\n",
       "      <td>-79.37804</td>\n",
       "    </tr>\n",
       "    <tr>\n",
       "      <th>3</th>\n",
       "      <td>M5C</td>\n",
       "      <td>Downtown Toronto</td>\n",
       "      <td>St. James Town</td>\n",
       "      <td>43.65215</td>\n",
       "      <td>-79.37587</td>\n",
       "    </tr>\n",
       "    <tr>\n",
       "      <th>4</th>\n",
       "      <td>M4E</td>\n",
       "      <td>East Toronto</td>\n",
       "      <td>The Beaches</td>\n",
       "      <td>43.67709</td>\n",
       "      <td>-79.29547</td>\n",
       "    </tr>\n",
       "  </tbody>\n",
       "</table>\n",
       "</div>"
      ],
      "text/plain": [
       "  Postal Code           Borough                                Neighbourhood  \\\n",
       "0         M5A  Downtown Toronto                    Regent Park, Harbourfront   \n",
       "1         M7A  Downtown Toronto  Queen's Park, Ontario Provincial Government   \n",
       "2         M5B  Downtown Toronto                     Garden District, Ryerson   \n",
       "3         M5C  Downtown Toronto                               St. James Town   \n",
       "4         M4E      East Toronto                                  The Beaches   \n",
       "\n",
       "   latitude  longitude  \n",
       "0  43.65512  -79.36264  \n",
       "1  43.66253  -79.39188  \n",
       "2  43.65739  -79.37804  \n",
       "3  43.65215  -79.37587  \n",
       "4  43.67709  -79.29547  "
      ]
     },
     "execution_count": 18,
     "metadata": {},
     "output_type": "execute_result"
    }
   ],
   "source": [
    "df_toronto.reset_index(drop = True, inplace=True)\n",
    "df_toronto.head()"
   ]
  },
  {
   "cell_type": "markdown",
   "metadata": {},
   "source": [
    "Here we are visualizing the new neightbourhoods"
   ]
  },
  {
   "cell_type": "code",
   "execution_count": 19,
   "metadata": {},
   "outputs": [
    {
     "data": {
      "text/html": [
       "<div style=\"width:100%;\"><div style=\"position:relative;width:100%;height:0;padding-bottom:60%;\"><span style=\"color:#565656\">Make this Notebook Trusted to load map: File -> Trust Notebook</span><iframe src=\"about:blank\" style=\"position:absolute;width:100%;height:100%;left:0;top:0;border:none !important;\" data-html=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 onload=\"this.contentDocument.open();this.contentDocument.write(atob(this.getAttribute('data-html')));this.contentDocument.close();\" allowfullscreen webkitallowfullscreen mozallowfullscreen></iframe></div></div>"
      ],
      "text/plain": [
       "<folium.folium.Map at 0x123fc7190>"
      ]
     },
     "execution_count": 19,
     "metadata": {},
     "output_type": "execute_result"
    }
   ],
   "source": [
    "# create map of Manhattan using latitude and longitude values\n",
    "map_toronto = folium.Map(tiles = 'StamenTerrain',location=[latitude, longitude], zoom_start=11)\n",
    "\n",
    "# add markers to map\n",
    "for lat, lng, label in zip(df_toronto['latitude'], df_toronto['longitude'], df_toronto['Neighbourhood']):\n",
    "    label = folium.Popup(label, parse_html=True)\n",
    "    folium.CircleMarker(\n",
    "        [lat, lng],\n",
    "        radius=5,\n",
    "        popup=label,\n",
    "        color='blue',\n",
    "        fill=True,\n",
    "        fill_color='#3186cc',\n",
    "        fill_opacity=0.7,\n",
    "        parse_html=False).add_to(map_toronto)  \n",
    "    \n",
    "map_toronto"
   ]
  },
  {
   "cell_type": "markdown",
   "metadata": {},
   "source": [
    "### Next, we are going to utilize the Foursquare API to explore the neighborhoods and segment them."
   ]
  },
  {
   "cell_type": "code",
   "execution_count": 20,
   "metadata": {},
   "outputs": [
    {
     "name": "stdout",
     "output_type": "stream",
     "text": [
      "Your credentails:\n",
      "CLIENT_ID: ITPTFVZXK1ZNFNYDXQUIXOIBX4UTD0Q5R55AMROGVLCWFMZ5\n",
      "CLIENT_SECRET:OXXKWPXMHESTLBEVMWK2VTRS0CKWNES0ZKEBMJWYTE0CTBCW\n"
     ]
    }
   ],
   "source": [
    "CLIENT_ID = 'ITPTFVZXK1ZNFNYDXQUIXOIBX4UTD0Q5R55AMROGVLCWFMZ5' # your Foursquare ID\n",
    "CLIENT_SECRET = 'OXXKWPXMHESTLBEVMWK2VTRS0CKWNES0ZKEBMJWYTE0CTBCW' # your Foursquare Secret\n",
    "VERSION = '20180605' # Foursquare API version\n",
    "LIMIT = 100 # A default Foursquare API limit value\n",
    "\n",
    "print('Your credentails:')\n",
    "print('CLIENT_ID: ' + CLIENT_ID)\n",
    "print('CLIENT_SECRET:' + CLIENT_SECRET)"
   ]
  },
  {
   "cell_type": "markdown",
   "metadata": {},
   "source": [
    "#### Let's explore the first neighbourhood in our data frame"
   ]
  },
  {
   "cell_type": "code",
   "execution_count": 21,
   "metadata": {},
   "outputs": [
    {
     "name": "stdout",
     "output_type": "stream",
     "text": [
      "Latitude and longitude values of Regent Park, Harbourfront are 43.65512000000007, -79.36263999999994.\n"
     ]
    }
   ],
   "source": [
    "neighborhood_latitude = df_toronto.loc[0, 'latitude'] # neighborhood latitude value\n",
    "neighborhood_longitude = df_toronto.loc[0, 'longitude'] # neighborhood longitude value\n",
    "neighborhood_name = df_toronto.loc[0, 'Neighbourhood'] # neighborhood name\n",
    "\n",
    "print('Latitude and longitude values of {} are {}, {}.'.format(neighborhood_name, \n",
    "                                                               neighborhood_latitude, \n",
    "                                                               neighborhood_longitude))"
   ]
  },
  {
   "cell_type": "markdown",
   "metadata": {},
   "source": [
    "#### Let's look at the top 100 venues around Regend Park, Harbourfront neighbourhood within  a radius of 500 meters"
   ]
  },
  {
   "cell_type": "code",
   "execution_count": 24,
   "metadata": {},
   "outputs": [
    {
     "data": {
      "text/plain": [
       "'https://api.foursquare.com/v2/venues/explore?&client_id=ITPTFVZXK1ZNFNYDXQUIXOIBX4UTD0Q5R55AMROGVLCWFMZ5&client_secret=OXXKWPXMHESTLBEVMWK2VTRS0CKWNES0ZKEBMJWYTE0CTBCW&v=20180605&ll=43.65512000000007,-79.36263999999994&radius=500&limit=100'"
      ]
     },
     "execution_count": 24,
     "metadata": {},
     "output_type": "execute_result"
    }
   ],
   "source": [
    "LIMIT = 100 # limit of number of venues returned by Foursquare API\n",
    "radius = 500 # define radius\n",
    "\n",
    "url = 'https://api.foursquare.com/v2/venues/explore?&client_id={}&client_secret={}&v={}&ll={},{}&radius={}&limit={}'.format(\\\n",
    "CLIENT_ID,\n",
    "CLIENT_SECRET,\n",
    "VERSION,\n",
    "neighborhood_latitude,\n",
    "neighborhood_longitude,\n",
    "radius,\n",
    "LIMIT)\n",
    "url"
   ]
  },
  {
   "cell_type": "code",
   "execution_count": 25,
   "metadata": {},
   "outputs": [],
   "source": [
    "results = requests.get(url).json()  #gives result as a dictionary"
   ]
  },
  {
   "cell_type": "markdown",
   "metadata": {},
   "source": [
    "#### Let's see what the result object is made of"
   ]
  },
  {
   "cell_type": "code",
   "execution_count": 27,
   "metadata": {},
   "outputs": [
    {
     "name": "stdout",
     "output_type": "stream",
     "text": [
      "dict_keys(['meta', 'response'])\n",
      "\n",
      "keys for meta are: dict_keys(['code', 'requestId'])\n",
      "\n",
      "keys for response are: dict_keys(['suggestedFilters', 'headerLocation', 'headerFullLocation', 'headerLocationGranularity', 'totalResults', 'suggestedBounds', 'groups'])\n",
      "\n",
      "result['response']['groups'] are  dict_keys(['type', 'name', 'items'])\n"
     ]
    }
   ],
   "source": [
    "print (results.keys())\n",
    "print ()\n",
    "print ('keys for meta are:',results['meta'].keys())\n",
    "print ()\n",
    "print ('keys for response are:',results['response'].keys())\n",
    "print ()\n",
    "print (\"result['response']['groups'] are \", results['response']['groups'][0].keys())"
   ]
  },
  {
   "cell_type": "markdown",
   "metadata": {},
   "source": [
    "#### Let's define a function that gets the catagory of a venue. We will use this funciton clean up and convert our data into a dataframe format "
   ]
  },
  {
   "cell_type": "code",
   "execution_count": 43,
   "metadata": {},
   "outputs": [],
   "source": [
    "# function that extracts the category of the venue\n",
    "def get_category_type(row):\n",
    "    #try:\n",
    "        #categories_list = row['categories'] # we don't really need this line since we only have the venue.categories as the column title\n",
    "    #except:\n",
    "    categories_list = row['venue.categories']\n",
    "        \n",
    "    if len(categories_list) == 0:\n",
    "        return None\n",
    "    else:\n",
    "        return categories_list[0]['name']"
   ]
  },
  {
   "cell_type": "code",
   "execution_count": 42,
   "metadata": {},
   "outputs": [
    {
     "data": {
      "text/plain": [
       "Index(['venue.name', 'venue.categories', 'venue.location.lat',\n",
       "       'venue.location.lng'],\n",
       "      dtype='object')"
      ]
     },
     "execution_count": 42,
     "metadata": {},
     "output_type": "execute_result"
    }
   ],
   "source": [
    "nearby_venues.columns\n"
   ]
  },
  {
   "cell_type": "code",
   "execution_count": 29,
   "metadata": {},
   "outputs": [
    {
     "name": "stderr",
     "output_type": "stream",
     "text": [
      "/Users/sayebms1/Library/Python/3.7/lib/python/site-packages/ipykernel_launcher.py:3: FutureWarning: pandas.io.json.json_normalize is deprecated, use pandas.json_normalize instead\n",
      "  This is separate from the ipykernel package so we can avoid doing imports until\n"
     ]
    }
   ],
   "source": [
    "venues = results['response']['groups'][0]['items']\n",
    "    \n",
    "nearby_venues = json_normalize(venues) # tranform JSON file into a pandas dataframe"
   ]
  },
  {
   "cell_type": "code",
   "execution_count": 32,
   "metadata": {},
   "outputs": [
    {
     "data": {
      "text/html": [
       "<div>\n",
       "<style scoped>\n",
       "    .dataframe tbody tr th:only-of-type {\n",
       "        vertical-align: middle;\n",
       "    }\n",
       "\n",
       "    .dataframe tbody tr th {\n",
       "        vertical-align: top;\n",
       "    }\n",
       "\n",
       "    .dataframe thead th {\n",
       "        text-align: right;\n",
       "    }\n",
       "</style>\n",
       "<table border=\"1\" class=\"dataframe\">\n",
       "  <thead>\n",
       "    <tr style=\"text-align: right;\">\n",
       "      <th></th>\n",
       "      <th>referralId</th>\n",
       "      <th>reasons.count</th>\n",
       "      <th>reasons.items</th>\n",
       "      <th>venue.id</th>\n",
       "      <th>venue.name</th>\n",
       "      <th>venue.location.address</th>\n",
       "      <th>venue.location.crossStreet</th>\n",
       "      <th>venue.location.lat</th>\n",
       "      <th>venue.location.lng</th>\n",
       "      <th>venue.location.labeledLatLngs</th>\n",
       "      <th>venue.location.distance</th>\n",
       "      <th>venue.location.postalCode</th>\n",
       "      <th>venue.location.cc</th>\n",
       "      <th>venue.location.city</th>\n",
       "      <th>venue.location.state</th>\n",
       "      <th>venue.location.country</th>\n",
       "      <th>venue.location.formattedAddress</th>\n",
       "      <th>venue.categories</th>\n",
       "      <th>venue.photos.count</th>\n",
       "      <th>venue.photos.groups</th>\n",
       "      <th>venue.venuePage.id</th>\n",
       "      <th>venue.location.neighborhood</th>\n",
       "    </tr>\n",
       "  </thead>\n",
       "  <tbody>\n",
       "    <tr>\n",
       "      <th>0</th>\n",
       "      <td>e-0-54ea41ad498e9a11e9e13308-0</td>\n",
       "      <td>0</td>\n",
       "      <td>[{'summary': 'This spot is popular', 'type': '...</td>\n",
       "      <td>54ea41ad498e9a11e9e13308</td>\n",
       "      <td>Roselle Desserts</td>\n",
       "      <td>362 King St E</td>\n",
       "      <td>Trinity St</td>\n",
       "      <td>43.653447</td>\n",
       "      <td>-79.362017</td>\n",
       "      <td>[{'label': 'display', 'lat': 43.65344672305267...</td>\n",
       "      <td>192</td>\n",
       "      <td>M5A 1K9</td>\n",
       "      <td>CA</td>\n",
       "      <td>Toronto</td>\n",
       "      <td>ON</td>\n",
       "      <td>Canada</td>\n",
       "      <td>[362 King St E (Trinity St), Toronto ON M5A 1K...</td>\n",
       "      <td>[{'id': '4bf58dd8d48988d16a941735', 'name': 'B...</td>\n",
       "      <td>0</td>\n",
       "      <td>[]</td>\n",
       "      <td>NaN</td>\n",
       "      <td>NaN</td>\n",
       "    </tr>\n",
       "    <tr>\n",
       "      <th>1</th>\n",
       "      <td>e-0-53b8466a498e83df908c3f21-1</td>\n",
       "      <td>0</td>\n",
       "      <td>[{'summary': 'This spot is popular', 'type': '...</td>\n",
       "      <td>53b8466a498e83df908c3f21</td>\n",
       "      <td>Tandem Coffee</td>\n",
       "      <td>368 King St E</td>\n",
       "      <td>at Trinity St</td>\n",
       "      <td>43.653559</td>\n",
       "      <td>-79.361809</td>\n",
       "      <td>[{'label': 'display', 'lat': 43.65355870959944...</td>\n",
       "      <td>186</td>\n",
       "      <td>NaN</td>\n",
       "      <td>CA</td>\n",
       "      <td>Toronto</td>\n",
       "      <td>ON</td>\n",
       "      <td>Canada</td>\n",
       "      <td>[368 King St E (at Trinity St), Toronto ON, Ca...</td>\n",
       "      <td>[{'id': '4bf58dd8d48988d1e0931735', 'name': 'C...</td>\n",
       "      <td>0</td>\n",
       "      <td>[]</td>\n",
       "      <td>NaN</td>\n",
       "      <td>NaN</td>\n",
       "    </tr>\n",
       "    <tr>\n",
       "      <th>2</th>\n",
       "      <td>e-0-4af59046f964a520e0f921e3-2</td>\n",
       "      <td>0</td>\n",
       "      <td>[{'summary': 'This spot is popular', 'type': '...</td>\n",
       "      <td>4af59046f964a520e0f921e3</td>\n",
       "      <td>Figs Breakfast &amp; Lunch</td>\n",
       "      <td>344 Queen St. E.</td>\n",
       "      <td>at Parliament St.</td>\n",
       "      <td>43.655675</td>\n",
       "      <td>-79.364503</td>\n",
       "      <td>[{'label': 'display', 'lat': 43.65567455427388...</td>\n",
       "      <td>162</td>\n",
       "      <td>M5A 1S8</td>\n",
       "      <td>CA</td>\n",
       "      <td>Toronto</td>\n",
       "      <td>ON</td>\n",
       "      <td>Canada</td>\n",
       "      <td>[344 Queen St. E. (at Parliament St.), Toronto...</td>\n",
       "      <td>[{'id': '4bf58dd8d48988d143941735', 'name': 'B...</td>\n",
       "      <td>0</td>\n",
       "      <td>[]</td>\n",
       "      <td>NaN</td>\n",
       "      <td>NaN</td>\n",
       "    </tr>\n",
       "    <tr>\n",
       "      <th>3</th>\n",
       "      <td>e-0-4b58dd55f964a5208f6f28e3-3</td>\n",
       "      <td>0</td>\n",
       "      <td>[{'summary': 'This spot is popular', 'type': '...</td>\n",
       "      <td>4b58dd55f964a5208f6f28e3</td>\n",
       "      <td>The Yoga Lounge</td>\n",
       "      <td>106 Sherbourne St.</td>\n",
       "      <td>at Adelaide St. East</td>\n",
       "      <td>43.655515</td>\n",
       "      <td>-79.364955</td>\n",
       "      <td>[{'label': 'display', 'lat': 43.65551522261721...</td>\n",
       "      <td>191</td>\n",
       "      <td>NaN</td>\n",
       "      <td>CA</td>\n",
       "      <td>Toronto</td>\n",
       "      <td>ON</td>\n",
       "      <td>Canada</td>\n",
       "      <td>[106 Sherbourne St. (at Adelaide St. East), To...</td>\n",
       "      <td>[{'id': '4bf58dd8d48988d102941735', 'name': 'Y...</td>\n",
       "      <td>0</td>\n",
       "      <td>[]</td>\n",
       "      <td>NaN</td>\n",
       "      <td>NaN</td>\n",
       "    </tr>\n",
       "    <tr>\n",
       "      <th>4</th>\n",
       "      <td>e-0-50760559e4b0e8c7babe2497-4</td>\n",
       "      <td>0</td>\n",
       "      <td>[{'summary': 'This spot is popular', 'type': '...</td>\n",
       "      <td>50760559e4b0e8c7babe2497</td>\n",
       "      <td>Body Blitz Spa East</td>\n",
       "      <td>497 King Street East</td>\n",
       "      <td>btwn Sackville St and Sumach St</td>\n",
       "      <td>43.654735</td>\n",
       "      <td>-79.359874</td>\n",
       "      <td>[{'label': 'display', 'lat': 43.65473505045365...</td>\n",
       "      <td>226</td>\n",
       "      <td>M5A 1L9</td>\n",
       "      <td>CA</td>\n",
       "      <td>Toronto</td>\n",
       "      <td>ON</td>\n",
       "      <td>Canada</td>\n",
       "      <td>[497 King Street East (btwn Sackville St and S...</td>\n",
       "      <td>[{'id': '4bf58dd8d48988d1ed941735', 'name': 'S...</td>\n",
       "      <td>0</td>\n",
       "      <td>[]</td>\n",
       "      <td>NaN</td>\n",
       "      <td>NaN</td>\n",
       "    </tr>\n",
       "  </tbody>\n",
       "</table>\n",
       "</div>"
      ],
      "text/plain": [
       "                       referralId  reasons.count  \\\n",
       "0  e-0-54ea41ad498e9a11e9e13308-0              0   \n",
       "1  e-0-53b8466a498e83df908c3f21-1              0   \n",
       "2  e-0-4af59046f964a520e0f921e3-2              0   \n",
       "3  e-0-4b58dd55f964a5208f6f28e3-3              0   \n",
       "4  e-0-50760559e4b0e8c7babe2497-4              0   \n",
       "\n",
       "                                       reasons.items  \\\n",
       "0  [{'summary': 'This spot is popular', 'type': '...   \n",
       "1  [{'summary': 'This spot is popular', 'type': '...   \n",
       "2  [{'summary': 'This spot is popular', 'type': '...   \n",
       "3  [{'summary': 'This spot is popular', 'type': '...   \n",
       "4  [{'summary': 'This spot is popular', 'type': '...   \n",
       "\n",
       "                   venue.id              venue.name venue.location.address  \\\n",
       "0  54ea41ad498e9a11e9e13308        Roselle Desserts          362 King St E   \n",
       "1  53b8466a498e83df908c3f21           Tandem Coffee          368 King St E   \n",
       "2  4af59046f964a520e0f921e3  Figs Breakfast & Lunch       344 Queen St. E.   \n",
       "3  4b58dd55f964a5208f6f28e3         The Yoga Lounge     106 Sherbourne St.   \n",
       "4  50760559e4b0e8c7babe2497     Body Blitz Spa East   497 King Street East   \n",
       "\n",
       "        venue.location.crossStreet  venue.location.lat  venue.location.lng  \\\n",
       "0                       Trinity St           43.653447          -79.362017   \n",
       "1                    at Trinity St           43.653559          -79.361809   \n",
       "2                at Parliament St.           43.655675          -79.364503   \n",
       "3             at Adelaide St. East           43.655515          -79.364955   \n",
       "4  btwn Sackville St and Sumach St           43.654735          -79.359874   \n",
       "\n",
       "                       venue.location.labeledLatLngs  venue.location.distance  \\\n",
       "0  [{'label': 'display', 'lat': 43.65344672305267...                      192   \n",
       "1  [{'label': 'display', 'lat': 43.65355870959944...                      186   \n",
       "2  [{'label': 'display', 'lat': 43.65567455427388...                      162   \n",
       "3  [{'label': 'display', 'lat': 43.65551522261721...                      191   \n",
       "4  [{'label': 'display', 'lat': 43.65473505045365...                      226   \n",
       "\n",
       "  venue.location.postalCode venue.location.cc venue.location.city  \\\n",
       "0                   M5A 1K9                CA             Toronto   \n",
       "1                       NaN                CA             Toronto   \n",
       "2                   M5A 1S8                CA             Toronto   \n",
       "3                       NaN                CA             Toronto   \n",
       "4                   M5A 1L9                CA             Toronto   \n",
       "\n",
       "  venue.location.state venue.location.country  \\\n",
       "0                   ON                 Canada   \n",
       "1                   ON                 Canada   \n",
       "2                   ON                 Canada   \n",
       "3                   ON                 Canada   \n",
       "4                   ON                 Canada   \n",
       "\n",
       "                     venue.location.formattedAddress  \\\n",
       "0  [362 King St E (Trinity St), Toronto ON M5A 1K...   \n",
       "1  [368 King St E (at Trinity St), Toronto ON, Ca...   \n",
       "2  [344 Queen St. E. (at Parliament St.), Toronto...   \n",
       "3  [106 Sherbourne St. (at Adelaide St. East), To...   \n",
       "4  [497 King Street East (btwn Sackville St and S...   \n",
       "\n",
       "                                    venue.categories  venue.photos.count  \\\n",
       "0  [{'id': '4bf58dd8d48988d16a941735', 'name': 'B...                   0   \n",
       "1  [{'id': '4bf58dd8d48988d1e0931735', 'name': 'C...                   0   \n",
       "2  [{'id': '4bf58dd8d48988d143941735', 'name': 'B...                   0   \n",
       "3  [{'id': '4bf58dd8d48988d102941735', 'name': 'Y...                   0   \n",
       "4  [{'id': '4bf58dd8d48988d1ed941735', 'name': 'S...                   0   \n",
       "\n",
       "  venue.photos.groups venue.venuePage.id venue.location.neighborhood  \n",
       "0                  []                NaN                         NaN  \n",
       "1                  []                NaN                         NaN  \n",
       "2                  []                NaN                         NaN  \n",
       "3                  []                NaN                         NaN  \n",
       "4                  []                NaN                         NaN  "
      ]
     },
     "execution_count": 32,
     "metadata": {},
     "output_type": "execute_result"
    }
   ],
   "source": [
    "nearby_venues.head()"
   ]
  },
  {
   "cell_type": "markdown",
   "metadata": {},
   "source": [
    "#### We are interested in the venue names, categories, and location. Let's filter them out."
   ]
  },
  {
   "cell_type": "code",
   "execution_count": 33,
   "metadata": {},
   "outputs": [
    {
     "data": {
      "text/html": [
       "<div>\n",
       "<style scoped>\n",
       "    .dataframe tbody tr th:only-of-type {\n",
       "        vertical-align: middle;\n",
       "    }\n",
       "\n",
       "    .dataframe tbody tr th {\n",
       "        vertical-align: top;\n",
       "    }\n",
       "\n",
       "    .dataframe thead th {\n",
       "        text-align: right;\n",
       "    }\n",
       "</style>\n",
       "<table border=\"1\" class=\"dataframe\">\n",
       "  <thead>\n",
       "    <tr style=\"text-align: right;\">\n",
       "      <th></th>\n",
       "      <th>venue.name</th>\n",
       "      <th>venue.categories</th>\n",
       "      <th>venue.location.lat</th>\n",
       "      <th>venue.location.lng</th>\n",
       "    </tr>\n",
       "  </thead>\n",
       "  <tbody>\n",
       "    <tr>\n",
       "      <th>0</th>\n",
       "      <td>Roselle Desserts</td>\n",
       "      <td>[{'id': '4bf58dd8d48988d16a941735', 'name': 'B...</td>\n",
       "      <td>43.653447</td>\n",
       "      <td>-79.362017</td>\n",
       "    </tr>\n",
       "    <tr>\n",
       "      <th>1</th>\n",
       "      <td>Tandem Coffee</td>\n",
       "      <td>[{'id': '4bf58dd8d48988d1e0931735', 'name': 'C...</td>\n",
       "      <td>43.653559</td>\n",
       "      <td>-79.361809</td>\n",
       "    </tr>\n",
       "    <tr>\n",
       "      <th>2</th>\n",
       "      <td>Figs Breakfast &amp; Lunch</td>\n",
       "      <td>[{'id': '4bf58dd8d48988d143941735', 'name': 'B...</td>\n",
       "      <td>43.655675</td>\n",
       "      <td>-79.364503</td>\n",
       "    </tr>\n",
       "    <tr>\n",
       "      <th>3</th>\n",
       "      <td>The Yoga Lounge</td>\n",
       "      <td>[{'id': '4bf58dd8d48988d102941735', 'name': 'Y...</td>\n",
       "      <td>43.655515</td>\n",
       "      <td>-79.364955</td>\n",
       "    </tr>\n",
       "    <tr>\n",
       "      <th>4</th>\n",
       "      <td>Body Blitz Spa East</td>\n",
       "      <td>[{'id': '4bf58dd8d48988d1ed941735', 'name': 'S...</td>\n",
       "      <td>43.654735</td>\n",
       "      <td>-79.359874</td>\n",
       "    </tr>\n",
       "  </tbody>\n",
       "</table>\n",
       "</div>"
      ],
      "text/plain": [
       "               venue.name                                   venue.categories  \\\n",
       "0        Roselle Desserts  [{'id': '4bf58dd8d48988d16a941735', 'name': 'B...   \n",
       "1           Tandem Coffee  [{'id': '4bf58dd8d48988d1e0931735', 'name': 'C...   \n",
       "2  Figs Breakfast & Lunch  [{'id': '4bf58dd8d48988d143941735', 'name': 'B...   \n",
       "3         The Yoga Lounge  [{'id': '4bf58dd8d48988d102941735', 'name': 'Y...   \n",
       "4     Body Blitz Spa East  [{'id': '4bf58dd8d48988d1ed941735', 'name': 'S...   \n",
       "\n",
       "   venue.location.lat  venue.location.lng  \n",
       "0           43.653447          -79.362017  \n",
       "1           43.653559          -79.361809  \n",
       "2           43.655675          -79.364503  \n",
       "3           43.655515          -79.364955  \n",
       "4           43.654735          -79.359874  "
      ]
     },
     "execution_count": 33,
     "metadata": {},
     "output_type": "execute_result"
    }
   ],
   "source": [
    "interested_columns = ['venue.name','venue.categories','venue.location.lat','venue.location.lng']\n",
    "nearby_venues = nearby_venues.loc[:,interested_columns]\n",
    "nearby_venues.head()"
   ]
  },
  {
   "cell_type": "code",
   "execution_count": 49,
   "metadata": {},
   "outputs": [
    {
     "data": {
      "text/plain": [
       "[{'id': '4bf58dd8d48988d16a941735',\n",
       "  'name': 'Bakery',\n",
       "  'pluralName': 'Bakeries',\n",
       "  'shortName': 'Bakery',\n",
       "  'icon': {'prefix': 'https://ss3.4sqi.net/img/categories_v2/food/bakery_',\n",
       "   'suffix': '.png'},\n",
       "  'primary': True}]"
      ]
     },
     "execution_count": 49,
     "metadata": {},
     "output_type": "execute_result"
    }
   ],
   "source": [
    "nearby_venues['venue.categories'][0]"
   ]
  },
  {
   "cell_type": "markdown",
   "metadata": {},
   "source": [
    "#### We see that categories is consisted of dictionary with multiple keys. However, we are only interested in the name of the category for now. Therefore, let's apply **get_category_type** to each row of our dataframe in order to get only the name of the venue instead of other extra information"
   ]
  },
  {
   "cell_type": "code",
   "execution_count": 50,
   "metadata": {},
   "outputs": [],
   "source": [
    "nearby_venues['venue.categories'] = nearby_venues.apply(get_category_type, axis=1)"
   ]
  },
  {
   "cell_type": "markdown",
   "metadata": {},
   "source": [
    "#### though this step is not absolutely necessary but let's make the column names more readable"
   ]
  },
  {
   "cell_type": "code",
   "execution_count": 60,
   "metadata": {},
   "outputs": [
    {
     "data": {
      "text/plain": [
       "Index(['name', 'categories', 'lat', 'lng'], dtype='object')"
      ]
     },
     "execution_count": 60,
     "metadata": {},
     "output_type": "execute_result"
    }
   ],
   "source": [
    "nearby_venues.columns"
   ]
  },
  {
   "cell_type": "code",
   "execution_count": 61,
   "metadata": {},
   "outputs": [
    {
     "data": {
      "text/plain": [
       "Index(['name', 'categories', 'lat', 'lng'], dtype='object')"
      ]
     },
     "execution_count": 61,
     "metadata": {},
     "output_type": "execute_result"
    }
   ],
   "source": [
    "nearby_venues.columns = [column.split('.')[-1] for column in nearby_venues.columns]\n",
    "nearby_venues.columns"
   ]
  },
  {
   "cell_type": "code",
   "execution_count": 62,
   "metadata": {},
   "outputs": [
    {
     "data": {
      "text/html": [
       "<div>\n",
       "<style scoped>\n",
       "    .dataframe tbody tr th:only-of-type {\n",
       "        vertical-align: middle;\n",
       "    }\n",
       "\n",
       "    .dataframe tbody tr th {\n",
       "        vertical-align: top;\n",
       "    }\n",
       "\n",
       "    .dataframe thead th {\n",
       "        text-align: right;\n",
       "    }\n",
       "</style>\n",
       "<table border=\"1\" class=\"dataframe\">\n",
       "  <thead>\n",
       "    <tr style=\"text-align: right;\">\n",
       "      <th></th>\n",
       "      <th>name</th>\n",
       "      <th>categories</th>\n",
       "      <th>lat</th>\n",
       "      <th>lng</th>\n",
       "    </tr>\n",
       "  </thead>\n",
       "  <tbody>\n",
       "    <tr>\n",
       "      <th>0</th>\n",
       "      <td>Roselle Desserts</td>\n",
       "      <td>Bakery</td>\n",
       "      <td>43.653447</td>\n",
       "      <td>-79.362017</td>\n",
       "    </tr>\n",
       "    <tr>\n",
       "      <th>1</th>\n",
       "      <td>Tandem Coffee</td>\n",
       "      <td>Coffee Shop</td>\n",
       "      <td>43.653559</td>\n",
       "      <td>-79.361809</td>\n",
       "    </tr>\n",
       "    <tr>\n",
       "      <th>2</th>\n",
       "      <td>Figs Breakfast &amp; Lunch</td>\n",
       "      <td>Breakfast Spot</td>\n",
       "      <td>43.655675</td>\n",
       "      <td>-79.364503</td>\n",
       "    </tr>\n",
       "    <tr>\n",
       "      <th>3</th>\n",
       "      <td>The Yoga Lounge</td>\n",
       "      <td>Yoga Studio</td>\n",
       "      <td>43.655515</td>\n",
       "      <td>-79.364955</td>\n",
       "    </tr>\n",
       "    <tr>\n",
       "      <th>4</th>\n",
       "      <td>Body Blitz Spa East</td>\n",
       "      <td>Spa</td>\n",
       "      <td>43.654735</td>\n",
       "      <td>-79.359874</td>\n",
       "    </tr>\n",
       "  </tbody>\n",
       "</table>\n",
       "</div>"
      ],
      "text/plain": [
       "                     name      categories        lat        lng\n",
       "0        Roselle Desserts          Bakery  43.653447 -79.362017\n",
       "1           Tandem Coffee     Coffee Shop  43.653559 -79.361809\n",
       "2  Figs Breakfast & Lunch  Breakfast Spot  43.655675 -79.364503\n",
       "3         The Yoga Lounge     Yoga Studio  43.655515 -79.364955\n",
       "4     Body Blitz Spa East             Spa  43.654735 -79.359874"
      ]
     },
     "execution_count": 62,
     "metadata": {},
     "output_type": "execute_result"
    }
   ],
   "source": [
    "nearby_venues.head(5)"
   ]
  },
  {
   "cell_type": "code",
   "execution_count": 63,
   "metadata": {},
   "outputs": [
    {
     "name": "stdout",
     "output_type": "stream",
     "text": [
      "21 venues were returned by Foursquare.\n"
     ]
    }
   ],
   "source": [
    "print('{} venues were returned by Foursquare.'.format(nearby_venues.shape[0]))"
   ]
  },
  {
   "cell_type": "markdown",
   "metadata": {},
   "source": [
    "### Now let's explore the neighbourhoods in Toronto"
   ]
  },
  {
   "cell_type": "code",
   "execution_count": null,
   "metadata": {},
   "outputs": [],
   "source": []
  }
 ],
 "metadata": {
  "kernelspec": {
   "display_name": "Python 3",
   "language": "python",
   "name": "python3"
  },
  "language_info": {
   "codemirror_mode": {
    "name": "ipython",
    "version": 3
   },
   "file_extension": ".py",
   "mimetype": "text/x-python",
   "name": "python",
   "nbconvert_exporter": "python",
   "pygments_lexer": "ipython3",
   "version": "3.7.7"
  }
 },
 "nbformat": 4,
 "nbformat_minor": 4
}
