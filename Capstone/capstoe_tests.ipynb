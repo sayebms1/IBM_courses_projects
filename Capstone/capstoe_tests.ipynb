{
 "cells": [
  {
   "cell_type": "markdown",
   "metadata": {},
   "source": [
    "# Segmentation and clustering of largest counties in historically red and blue states"
   ]
  },
  {
   "cell_type": "code",
   "execution_count": 89,
   "metadata": {},
   "outputs": [],
   "source": [
    "import matplotlib.pyplot as plt\n",
    "import geopandas\n",
    "import numpy as np\n",
    "import pandas as pd\n",
    "from tqdm import tqdm #progress bar in for loops\n",
    "import geocoder\n",
    "import requests"
   ]
  },
  {
   "cell_type": "markdown",
   "metadata": {},
   "source": [
    "### 1. Read all the necessary files"
   ]
  },
  {
   "cell_type": "code",
   "execution_count": 90,
   "metadata": {},
   "outputs": [],
   "source": [
    "# Read files that give us the shape of all US counties\n",
    "shape_file = geopandas.read_file('./geo_files/cb_2018_us_county_500k.shp')\n",
    "# Read census files for population information \n",
    "url = \"https://www2.census.gov/programs-surveys/popest/datasets/2010-2019/counties/totals/co-est2019-alldata.csv\"\n",
    "census_file = pd.read_csv(url, encoding = \"ISO-8859-1\")"
   ]
  },
  {
   "cell_type": "markdown",
   "metadata": {},
   "source": [
    "For both shape and census data let's look at only Texas and California. In order to do this we need state FP numbers which are 06 for California and 48 for Texas. "
   ]
  },
  {
   "cell_type": "code",
   "execution_count": 91,
   "metadata": {},
   "outputs": [
    {
     "name": "stdout",
     "output_type": "stream",
     "text": [
      "object\n",
      "int64\n"
     ]
    }
   ],
   "source": [
    "# FP codes for the states\n",
    "# California\tCA\t06\n",
    "# Texas         TX  48\n",
    "print (shape_file['STATEFP'].dtype)\n",
    "print (census_file['STATE'].dtype)"
   ]
  },
  {
   "cell_type": "code",
   "execution_count": 92,
   "metadata": {},
   "outputs": [],
   "source": [
    "shape_file['STATEFP'] = shape_file['STATEFP'].astype(int)"
   ]
  },
  {
   "cell_type": "code",
   "execution_count": 93,
   "metadata": {},
   "outputs": [],
   "source": [
    "cal_shape = shape_file[shape_file['STATEFP']==6].reset_index(drop=True)\n",
    "tex_shape = shape_file[shape_file['STATEFP']==48].reset_index(drop=True)\n",
    "\n",
    "cal_census = census_file[census_file['STATE']==6].reset_index(drop=True)\n",
    "tex_census = census_file[census_file['STATE']==48].reset_index(drop=True)"
   ]
  },
  {
   "cell_type": "code",
   "execution_count": 94,
   "metadata": {},
   "outputs": [],
   "source": [
    "def df_shapes():\n",
    "    \n",
    "    print (cal_shape.shape)\n",
    "    print (cal_census.shape)\n",
    "    \n",
    "    print (tex_shape.shape)\n",
    "    print (tex_census.shape)\n",
    "    return"
   ]
  },
  {
   "cell_type": "markdown",
   "metadata": {},
   "source": [
    "#### We see that the census entries have one more row. Lets see what it is and remove it if not necessary"
   ]
  },
  {
   "cell_type": "code",
   "execution_count": 95,
   "metadata": {},
   "outputs": [],
   "source": [
    "# print ('California: \\n{}\\n{}\\n{}'.format(100*'.',cal_census.loc[0,'CTYNAME'],100*'-'))\n",
    "# print ('')\n",
    "# print ('Texas: \\n{}\\n{}\\n{}'.format(100*'.',tex_census.loc[0,'CTYNAME'],100*'-'))"
   ]
  },
  {
   "cell_type": "markdown",
   "metadata": {},
   "source": [
    "#### We have information about the state in addition to counties in the census files. Lets remove the 0th entry in the census files"
   ]
  },
  {
   "cell_type": "code",
   "execution_count": 96,
   "metadata": {},
   "outputs": [],
   "source": [
    "cal_census = cal_census.drop([0])\n",
    "tex_census = tex_census.drop([0])\n",
    "\n",
    "cal_census.reset_index(drop=True, inplace=True)\n",
    "tex_census.reset_index(drop=True, inplace=True)"
   ]
  },
  {
   "cell_type": "markdown",
   "metadata": {},
   "source": [
    "#### Let's check the shapes again"
   ]
  },
  {
   "cell_type": "code",
   "execution_count": 97,
   "metadata": {},
   "outputs": [
    {
     "name": "stdout",
     "output_type": "stream",
     "text": [
      "(58, 10)\n",
      "(58, 164)\n",
      "(254, 10)\n",
      "(254, 164)\n"
     ]
    }
   ],
   "source": [
    "print (cal_shape.shape)\n",
    "print (cal_census.shape)\n",
    "    \n",
    "print (tex_shape.shape)\n",
    "print (tex_census.shape)"
   ]
  },
  {
   "cell_type": "markdown",
   "metadata": {},
   "source": [
    "#### Now that they are the same size let's add the shape data to the census data. In other words let's merge the two datasets. In order to merge the two data sets for each of California and Texas on the county name column we first rename the county name column on shape data"
   ]
  },
  {
   "cell_type": "code",
   "execution_count": 98,
   "metadata": {},
   "outputs": [],
   "source": [
    "tex_shape.rename(columns={'NAME':'CTYNAME'}, inplace=True)\n",
    "cal_shape.rename(columns={'NAME':'CTYNAME'}, inplace=True)"
   ]
  },
  {
   "cell_type": "code",
   "execution_count": 99,
   "metadata": {},
   "outputs": [],
   "source": [
    "# print (tex_shape.columns)\n",
    "# print (tex_census.columns)"
   ]
  },
  {
   "cell_type": "markdown",
   "metadata": {},
   "source": [
    "#### There is a small problem. The county names for on census and shape files don't match. The word 'County' is added to the county names in the census files"
   ]
  },
  {
   "cell_type": "code",
   "execution_count": 100,
   "metadata": {},
   "outputs": [],
   "source": [
    "# print ('Census: \\n{}\\n{}\\n{}'.format(100*'.',tex_census['CTYNAME'],100*'-',))\n",
    "# print ('Shape file: \\n{}\\n{}\\n{}'.format(100*'.',tex_shape['CTYNAME'],100*'-',))"
   ]
  },
  {
   "cell_type": "markdown",
   "metadata": {},
   "source": [
    "#### Let's remove the extra word from the data. Note that strip function doesn't work properly for removing 'County'. Instead we use split and join to remove the last word"
   ]
  },
  {
   "cell_type": "code",
   "execution_count": 101,
   "metadata": {},
   "outputs": [],
   "source": [
    "tex_census['CTYNAME'] = tex_census['CTYNAME'].map(lambda x: ' '.join(x.split()[:-1])) #the labmda function here gets rid of County at the end\n",
    "cal_census['CTYNAME'] = cal_census['CTYNAME'].map(lambda x: ' '.join(x.split()[:-1])) #the labmda function here gets rid of County at the end"
   ]
  },
  {
   "cell_type": "code",
   "execution_count": 102,
   "metadata": {},
   "outputs": [],
   "source": [
    "# print ('CALIFORNIA: \\n{}\\n{}'.format(100*':',100*':'))\n",
    "# print ('Census: \\n{}\\n{}\\n{}'.format(100*'.',cal_census['CTYNAME'],100*'-',))\n",
    "# print ('Shape file: \\n{}\\n{}\\n{}'.format(100*'.',cal_shape['CTYNAME'],100*'-',))\n",
    "# print ('TEXAS: \\n{}\\n{}'.format(100*':',100*':'))\n",
    "# print ('Census: \\n{}\\n{}\\n{}'.format(100*'.',tex_census['CTYNAME'],100*'-',))\n",
    "# print ('Shape file: \\n{}\\n{}\\n{}'.format(100*'.',tex_shape['CTYNAME'],100*'-',))"
   ]
  },
  {
   "cell_type": "markdown",
   "metadata": {},
   "source": [
    "#### Now the different data frames seem to have the same number of rows. Next lets try to merge the Data frames for eith of states Texas and California"
   ]
  },
  {
   "cell_type": "code",
   "execution_count": 103,
   "metadata": {},
   "outputs": [],
   "source": [
    "tex_merged = tex_census.merge(tex_shape, on=\"CTYNAME\", how=\"inner\")\n",
    "cal_merged = cal_census.merge(cal_shape, on=\"CTYNAME\", how=\"inner\")"
   ]
  },
  {
   "cell_type": "code",
   "execution_count": 104,
   "metadata": {},
   "outputs": [
    {
     "name": "stdout",
     "output_type": "stream",
     "text": [
      "(254, 173)\n",
      "(58, 173)\n"
     ]
    }
   ],
   "source": [
    "print (tex_merged.shape)\n",
    "print (cal_merged.shape)"
   ]
  },
  {
   "cell_type": "code",
   "execution_count": 105,
   "metadata": {},
   "outputs": [
    {
     "data": {
      "text/plain": [
       "{'0CTYNAME', '2CTYNAME'}"
      ]
     },
     "execution_count": 105,
     "metadata": {},
     "output_type": "execute_result"
    }
   ],
   "source": [
    "y=['0CTYNAME', 'CTYNAME', '2CTYNAME', 'CTYNAME']\n",
    "x=['CTYNAME']\n",
    "\n",
    "set(y)-set(x)"
   ]
  },
  {
   "cell_type": "markdown",
   "metadata": {},
   "source": [
    "#### Now let's remove the extra data that we don't need in the analysis"
   ]
  },
  {
   "cell_type": "code",
   "execution_count": 106,
   "metadata": {},
   "outputs": [],
   "source": [
    "def exclude_columns(extra_years, census_file):\n",
    "    exclude_list = []\n",
    "    for i in extra_years:\n",
    "        exclude_list+=list(census_file.filter(regex=i))\n",
    "    return exclude_list"
   ]
  },
  {
   "cell_type": "code",
   "execution_count": 107,
   "metadata": {},
   "outputs": [],
   "source": [
    "extra_years = ['2010','2011','2012','2013', '2014', '2015', '2016', '2017','2018']\n",
    "list_2019 = list(set(list(census_file)) - set(exclude_columns(extra_years, census_file)))\n",
    "\n",
    "tex_merged = tex_merged[list_2019+list(tex_shape.columns.values[tex_shape.columns.values!='CTYNAME'])] \n",
    "cal_merged = cal_merged[list_2019+list(cal_shape.columns.values[cal_shape.columns.values!='CTYNAME'])] "
   ]
  },
  {
   "cell_type": "code",
   "execution_count": 108,
   "metadata": {},
   "outputs": [],
   "source": [
    "# print (tex_merged.columns)\n",
    "# print (cal_merged.columns)\n",
    "# tex_merged['CTYNAME']"
   ]
  },
  {
   "cell_type": "markdown",
   "metadata": {},
   "source": [
    "#### Let's add the center points to each data frame"
   ]
  },
  {
   "cell_type": "code",
   "execution_count": 109,
   "metadata": {},
   "outputs": [],
   "source": [
    "import geopandas as gpd\n",
    "\n",
    "tex_merged = gpd.GeoDataFrame(tex_merged)\n",
    "cal_merged = gpd.GeoDataFrame(cal_merged)\n",
    "\n",
    "tex_centroid = tex_merged.geometry.centroid\n",
    "cal_centroid = cal_merged.geometry.centroid"
   ]
  },
  {
   "cell_type": "markdown",
   "metadata": {},
   "source": [
    "### 2. Exploratory analysis of the census and election data"
   ]
  },
  {
   "cell_type": "markdown",
   "metadata": {},
   "source": [
    "#### Lets plot the shape files for two states that have historically been either blue or red"
   ]
  },
  {
   "cell_type": "code",
   "execution_count": 22,
   "metadata": {},
   "outputs": [
    {
     "data": {
      "image/png": "[encoded data removed]",
      "text/plain": [
       "<Figure size 720x360 with 2 Axes>"
      ]
     },
     "metadata": {
      "needs_background": "light"
     },
     "output_type": "display_data"
    }
   ],
   "source": [
    "fig, ax = plt.subplots(1,2,figsize=(10,5))\n",
    "\n",
    "#texas\n",
    "# ax[0].set_aspect(1)\n",
    "tex_centroid.plot(ax = ax[0], fc=(0.5,0.5,0.5,0.6), ec=(0,0,0,1), markersize=10)\n",
    "tex_merged.plot(ax = ax[0], color=(0.4863,0.039,0.00784,0.5))\n",
    "tex_merged.boundary.plot( ax = ax[0], color='Black', linewidth = 1)\n",
    "# tex_merged.plot( alpha=0.1, ax = ax, color='Grey', linewidth = 1)\n",
    "ax[0].set_ylim()\n",
    "ax[0].set_title('Map of Texas counties')\n",
    "\n",
    "#calif\n",
    "# ax[1].set_aspect(1)\n",
    "cal_centroid.plot(ax = ax[1], fc=(0.,0.,0.5,0.6), ec=(0,0,0,1), markersize=10)\n",
    "cal_merged.plot(ax = ax[1], color=(0.,0.,0.5,0.5))\n",
    "cal_merged.boundary.plot( ax = ax[1], color='Black', linewidth = 1)\n",
    "ax[1].set_title('Map of California counties')\n",
    "\n",
    "\n",
    "plt.show()"
   ]
  },
  {
   "cell_type": "code",
   "execution_count": 110,
   "metadata": {},
   "outputs": [
    {
     "name": "stdout",
     "output_type": "stream",
     "text": [
      "/Users/sayebms1/my_github/coursera/IBM_data_science/capstone\n"
     ]
    }
   ],
   "source": [
    "import os\n",
    "import sys\n",
    "print (os.getcwd())\n",
    "current_files = os.listdir(os.getcwd())"
   ]
  },
  {
   "cell_type": "code",
   "execution_count": 111,
   "metadata": {},
   "outputs": [],
   "source": [
    "def get_latlng(county_list, state):\n",
    "    current_files = os.listdir(os.getcwd())\n",
    "    \n",
    "    if state=='California':\n",
    "        print ('CA files are loading' if 'ca_latlng_vals.npy' in current_files else 'creating files')\n",
    "    if state =='Texas':\n",
    "        print ('TX files are loading' if 'tx_latlng_vals.npy' in current_files else 'creating files')\n",
    "    if 'ca_latlng_vals.npy' in current_files:\n",
    "        return np.load('ca_latlng_vals.npy')\n",
    "    if 'tx_latlng_vals.npy' in current_files:\n",
    "        return np.load('tx_latlng_vals.npy')\n",
    "    latlng = []\n",
    "    for i in tqdm(range(len(county_list))):\n",
    "        g=geocoder.arcgis('{}, {}'.format(county_list[i], state))\n",
    "        latlng.append(g.latlng)\n",
    "    return latlng\n",
    "    "
   ]
  },
  {
   "cell_type": "code",
   "execution_count": 112,
   "metadata": {},
   "outputs": [
    {
     "name": "stdout",
     "output_type": "stream",
     "text": [
      "TX files are loading\n",
      "CA files are loading\n"
     ]
    }
   ],
   "source": [
    "tx_latlng_vals = get_latlng(tex_merged['CTYNAME'], 'Texas')\n",
    "ca_latlng_vals = get_latlng(cal_merged['CTYNAME'], 'California')"
   ]
  },
  {
   "cell_type": "code",
   "execution_count": 113,
   "metadata": {},
   "outputs": [],
   "source": [
    "cal_merged['CTYNAME'] = cal_merged['CTYNAME'].apply(lambda x: x.upper())\n",
    "tex_merged['CTYNAME'] = tex_merged['CTYNAME'].apply(lambda x: x.upper())"
   ]
  },
  {
   "cell_type": "code",
   "execution_count": 114,
   "metadata": {},
   "outputs": [],
   "source": [
    "# np.log10(cal_merged['POPESTIMATE2019'])"
   ]
  },
  {
   "cell_type": "code",
   "execution_count": 28,
   "metadata": {},
   "outputs": [
    {
     "data": {
      "application/vnd.jupyter.widget-view+json": {
       "model_id": "220701dcf0354bd7a751bad8118df67a",
       "version_major": 2,
       "version_minor": 0
      },
      "text/plain": [
       "Canvas(toolbar=Toolbar(toolitems=[('Home', 'Reset original view', 'home', 'home'), ('Back', 'Back to previous …"
      ]
     },
     "metadata": {},
     "output_type": "display_data"
    }
   ],
   "source": [
    "%matplotlib widget\n",
    "\n",
    "fig, ax = plt.subplots(figsize=(10,10))\n",
    "ax.set_aspect(1)\n",
    "\n",
    "x = np.array(cal_centroid.x)\n",
    "y = np.array(cal_centroid.y)\n",
    "names = cal_merged['CTYNAME'].values\n",
    "population = cal_merged['POPESTIMATE2019'].values\n",
    "\n",
    "# sc=ax.scatter(x, y, c=cal_merged['POPESTIMATE2019'].values, fc=(0.1,0.1,0.8,0.2), ec=(0,0,0,0.2), s=500)\n",
    "sc=ax.scatter(x, y,  s=2000*cal_merged['POPESTIMATE2019']/(max(cal_merged['POPESTIMATE2019'])-min(cal_merged['POPESTIMATE2019'])), fc=(0.1,0.1,0.8,0.2), edgecolor='Blue')\n",
    "#2000000000*cal_merged['POPESTIMATE2019']/max(cal_merged['POPESTIMATE2019']\n",
    "# sc=ax.scatter(centroids_CL.x, centroids_CL.y, fc=(0.1,0.1,0.8,0.2), ec=(0,0,0,0.2), s=20000*counties_df_cal['POPESTIMATE2019']/max(counties_df_cal['POPESTIMATE2019']))\n",
    "cal_merged.boundary.plot( ax = ax, color='Black', linewidth = 1)\n",
    "# cal_merged.plot( alpha=0.1, ax = ax, color='Green', linewidth = 1)\n",
    "# cal_merged.apply(lambda x: ax.annotate(s=x.CTYNAME, xy=x.geometry.centroid.coords[0], ha='center', fontsize=10),axis=1);\n",
    "\n",
    "annot = ax.annotate(\"\", xy=(0,0), xytext=(20,20),textcoords=\"offset points\",\n",
    "                    bbox=dict(boxstyle=\"round\", fc=\"w\"),\n",
    "                    arrowprops=dict(arrowstyle=\"-\"))\n",
    "annot.set_visible(False)\n",
    "\n",
    "def update_annot(ind):\n",
    "\n",
    "    pos = sc.get_offsets()[ind[\"ind\"][0]]\n",
    "    annot.xy = pos\n",
    "#     text = \"{}, {}\".format(\" \".join(list(map(str,ind[\"ind\"]))), \n",
    "#                            \" \".join([names[n] for n in ind[\"ind\"]]))\n",
    "    text = \"{}, {}\".format(\" \".join([str(population[n]) for n in ind[\"ind\"]]), \n",
    "                           \" \".join([names[n] for n in ind[\"ind\"]]))\n",
    "    \n",
    "    annot.set_text(text)\n",
    "#     annot.get_bbox_patch().set_facecolor(cmap(norm(c[ind[\"ind\"][0]])))\n",
    "    annot.get_bbox_patch().set_alpha(0.9)\n",
    "def hover(event):\n",
    "    vis = annot.get_visible()\n",
    "    if event.inaxes == ax:\n",
    "        cont, ind = sc.contains(event)\n",
    "        if cont:\n",
    "            update_annot(ind)\n",
    "            annot.set_visible(True)\n",
    "            fig.canvas.draw_idle()\n",
    "        else:\n",
    "            if vis:\n",
    "                annot.set_visible(False)\n",
    "                fig.canvas.draw_idle()\n",
    "\n",
    "fig.canvas.mpl_connect(\"motion_notify_event\", hover)\n",
    "\n",
    "plt.show()\n",
    "plt.show()"
   ]
  },
  {
   "cell_type": "code",
   "execution_count": 29,
   "metadata": {},
   "outputs": [
    {
     "data": {
      "application/vnd.jupyter.widget-view+json": {
       "model_id": "ed5ac636174444c9935b5c66258bca55",
       "version_major": 2,
       "version_minor": 0
      },
      "text/plain": [
       "Canvas(toolbar=Toolbar(toolitems=[('Home', 'Reset original view', 'home', 'home'), ('Back', 'Back to previous …"
      ]
     },
     "metadata": {},
     "output_type": "display_data"
    }
   ],
   "source": [
    "%matplotlib widget\n",
    "\n",
    "fig, ax = plt.subplots(figsize=(10,10))\n",
    "ax.set_aspect(1)\n",
    "\n",
    "x = np.array(tex_centroid.x)\n",
    "y = np.array(tex_centroid.y)\n",
    "names = tex_merged['CTYNAME'].values\n",
    "population = tex_merged['POPESTIMATE2019'].values\n",
    "\n",
    "# sc=ax.scatter(x, y, c=cal_merged['POPESTIMATE2019'].values, fc=(0.1,0.1,0.8,0.2), ec=(0,0,0,0.2), s=500)\n",
    "sc=ax.scatter(x, y,  s=2000*tex_merged['POPESTIMATE2019']/(max(tex_merged['POPESTIMATE2019'])-min(tex_merged['POPESTIMATE2019'])), fc=(0.792,0,0.1647,0.2), edgecolor=(0.792,0,0.1647,0.1))\n",
    "# sc=ax.scatter(centroids_CL.x, centroids_CL.y, fc=(0.1,0.1,0.8,0.2), ec=(0,0,0,0.2), s=20000*counties_df_cal['POPESTIMATE2019']/max(counties_df_cal['POPESTIMATE2019']))\n",
    "tex_merged.boundary.plot( ax = ax, color='Black', linewidth = 1, alpha=0.5)\n",
    "# cal_merged.plot( alpha=0.1, ax = ax, color='Green', linewidth = 1)\n",
    "# cal_merged.apply(lambda x: ax.annotate(s=x.CTYNAME, xy=x.geometry.centroid.coords[0], ha='center', fontsize=10),axis=1);\n",
    "\n",
    "annot = ax.annotate(\"\", xy=(0,0), xytext=(20,20),textcoords=\"offset points\",\n",
    "                    bbox=dict(boxstyle=\"round\", fc=\"w\"),\n",
    "                    arrowprops=dict(arrowstyle=\"-\"))\n",
    "annot.set_visible(False)\n",
    "\n",
    "def update_annot(ind):\n",
    "\n",
    "    pos = sc.get_offsets()[ind[\"ind\"][0]]\n",
    "    annot.xy = pos\n",
    "#     text = \"{}, {}\".format(\" \".join(list(map(str,ind[\"ind\"]))), \n",
    "#                            \" \".join([names[n] for n in ind[\"ind\"]]))\n",
    "    text = \"{}, {}\".format(\" \".join([str(population[n]) for n in ind[\"ind\"]]), \n",
    "                           \" \".join([names[n] for n in ind[\"ind\"]]))\n",
    "    \n",
    "    annot.set_text(text)\n",
    "#     annot.get_bbox_patch().set_facecolor(cmap(norm(c[ind[\"ind\"][0]])))\n",
    "    annot.get_bbox_patch().set_alpha(0.9)\n",
    "def hover(event):\n",
    "    vis = annot.get_visible()\n",
    "    if event.inaxes == ax:\n",
    "        cont, ind = sc.contains(event)\n",
    "        if cont:\n",
    "            update_annot(ind)\n",
    "            annot.set_visible(True)\n",
    "            fig.canvas.draw_idle()\n",
    "        else:\n",
    "            if vis:\n",
    "                annot.set_visible(False)\n",
    "                fig.canvas.draw_idle()\n",
    "\n",
    "fig.canvas.mpl_connect(\"motion_notify_event\", hover)\n",
    "\n",
    "plt.show()\n",
    "plt.show()"
   ]
  },
  {
   "cell_type": "markdown",
   "metadata": {},
   "source": [
    "#### Now let's find the 2020 election data for each county for the state of California and state of Texas. The county data for the state of California is already in the working directory under the name cal_presential.xlsx, however, the data for Texas is not readily available as a table. Therefore for Texas data I will do web scrapping to get it. The presidential election county data are available at https://results.texas-election.com/contestdetails?officeID=1001&officeName=PRESIDENT%2FVICE-PRESIDENT&officeType=FEDERAL%20OFFICES&from=race. The data from this are compiled in the file tex_presidential.xlsx."
   ]
  },
  {
   "cell_type": "code",
   "execution_count": 115,
   "metadata": {},
   "outputs": [],
   "source": [
    "# import requests\n",
    "# from bs4 import BeautifulSoup\n",
    "import requests\n",
    "from bs4 import BeautifulSoup\n",
    "from bs4 import Comment\n",
    "import requests\n",
    "import lxml.html as lh\n",
    "import pandas as pd"
   ]
  },
  {
   "cell_type": "markdown",
   "metadata": {},
   "source": [
    "### 2.1 Election data analysis and visualization"
   ]
  },
  {
   "cell_type": "code",
   "execution_count": 116,
   "metadata": {},
   "outputs": [],
   "source": [
    "cal_presidential=pd.read_excel('cal_presidential.xlsx')\n",
    "tex_presidential=pd.read_excel('tex_presidential.xlsx')"
   ]
  },
  {
   "cell_type": "code",
   "execution_count": 117,
   "metadata": {},
   "outputs": [],
   "source": [
    "cal_columns_to_include= ['Unnamed: 0', 'Joseph R. \\nBiden', 'Donald J. \\nTrump*']\n",
    "cal_presidential = cal_presidential[cal_columns_to_include].dropna(axis='rows', how='all')\n",
    "cal_presidential.reset_index(drop=True, inplace=True)"
   ]
  },
  {
   "cell_type": "code",
   "execution_count": 118,
   "metadata": {},
   "outputs": [],
   "source": [
    "cal_presidential['Unnamed: 0']= cal_presidential['Unnamed: 0'].str.strip()\n",
    "cal_percentages = cal_presidential[cal_presidential['Unnamed: 0']=='Percent']"
   ]
  },
  {
   "cell_type": "code",
   "execution_count": 119,
   "metadata": {},
   "outputs": [
    {
     "data": {
      "text/html": [
       "<div>\n",
       "<style scoped>\n",
       "    .dataframe tbody tr th:only-of-type {\n",
       "        vertical-align: middle;\n",
       "    }\n",
       "\n",
       "    .dataframe tbody tr th {\n",
       "        vertical-align: top;\n",
       "    }\n",
       "\n",
       "    .dataframe thead th {\n",
       "        text-align: right;\n",
       "    }\n",
       "</style>\n",
       "<table border=\"1\" class=\"dataframe\">\n",
       "  <thead>\n",
       "    <tr style=\"text-align: right;\">\n",
       "      <th></th>\n",
       "      <th>Biden percentage</th>\n",
       "      <th>Trump percentage</th>\n",
       "    </tr>\n",
       "  </thead>\n",
       "  <tbody>\n",
       "    <tr>\n",
       "      <th>0</th>\n",
       "      <td>80.2%</td>\n",
       "      <td>17.7%</td>\n",
       "    </tr>\n",
       "    <tr>\n",
       "      <th>1</th>\n",
       "      <td>64.2%</td>\n",
       "      <td>32.9%</td>\n",
       "    </tr>\n",
       "    <tr>\n",
       "      <th>2</th>\n",
       "      <td>36.6%</td>\n",
       "      <td>60.9%</td>\n",
       "    </tr>\n",
       "    <tr>\n",
       "      <th>3</th>\n",
       "      <td>49.4%</td>\n",
       "      <td>47.7%</td>\n",
       "    </tr>\n",
       "    <tr>\n",
       "      <th>4</th>\n",
       "      <td>37.0%</td>\n",
       "      <td>60.8%</td>\n",
       "    </tr>\n",
       "  </tbody>\n",
       "</table>\n",
       "</div>"
      ],
      "text/plain": [
       "  Biden percentage Trump percentage\n",
       "0            80.2%            17.7%\n",
       "1            64.2%            32.9%\n",
       "2            36.6%            60.9%\n",
       "3            49.4%            47.7%\n",
       "4            37.0%            60.8%"
      ]
     },
     "execution_count": 119,
     "metadata": {},
     "output_type": "execute_result"
    }
   ],
   "source": [
    "cal_percentages = cal_percentages.rename(columns={\"Joseph R. \\nBiden\": \"Biden percentage\", \"Donald J. \\nTrump*\": \"Trump percentage\"})\n",
    "cal_percentages = cal_percentages.reset_index(drop=True)\n",
    "cal_percentages.drop(columns=['Unnamed: 0'], inplace=True)\n",
    "cal_percentages.head()"
   ]
  },
  {
   "cell_type": "code",
   "execution_count": 120,
   "metadata": {},
   "outputs": [
    {
     "data": {
      "text/html": [
       "<div>\n",
       "<style scoped>\n",
       "    .dataframe tbody tr th:only-of-type {\n",
       "        vertical-align: middle;\n",
       "    }\n",
       "\n",
       "    .dataframe tbody tr th {\n",
       "        vertical-align: top;\n",
       "    }\n",
       "\n",
       "    .dataframe thead th {\n",
       "        text-align: right;\n",
       "    }\n",
       "</style>\n",
       "<table border=\"1\" class=\"dataframe\">\n",
       "  <thead>\n",
       "    <tr style=\"text-align: right;\">\n",
       "      <th></th>\n",
       "      <th>County</th>\n",
       "      <th>Biden</th>\n",
       "      <th>Trump</th>\n",
       "    </tr>\n",
       "  </thead>\n",
       "  <tbody>\n",
       "    <tr>\n",
       "      <th>0</th>\n",
       "      <td>Alameda</td>\n",
       "      <td>617659</td>\n",
       "      <td>136309</td>\n",
       "    </tr>\n",
       "    <tr>\n",
       "      <th>1</th>\n",
       "      <td>Alpine</td>\n",
       "      <td>476</td>\n",
       "      <td>244</td>\n",
       "    </tr>\n",
       "    <tr>\n",
       "      <th>2</th>\n",
       "      <td>Amador</td>\n",
       "      <td>8153</td>\n",
       "      <td>13585</td>\n",
       "    </tr>\n",
       "    <tr>\n",
       "      <th>3</th>\n",
       "      <td>Butte</td>\n",
       "      <td>50426</td>\n",
       "      <td>48730</td>\n",
       "    </tr>\n",
       "    <tr>\n",
       "      <th>4</th>\n",
       "      <td>Calaveras</td>\n",
       "      <td>10046</td>\n",
       "      <td>16518</td>\n",
       "    </tr>\n",
       "  </tbody>\n",
       "</table>\n",
       "</div>"
      ],
      "text/plain": [
       "      County   Biden   Trump\n",
       "0    Alameda  617659  136309\n",
       "1     Alpine     476     244\n",
       "2     Amador    8153   13585\n",
       "3      Butte   50426   48730\n",
       "4  Calaveras   10046   16518"
      ]
     },
     "execution_count": 120,
     "metadata": {},
     "output_type": "execute_result"
    }
   ],
   "source": [
    "cal_presidential = cal_presidential[cal_presidential['Unnamed: 0']!='Percent']\n",
    "cal_presidential.rename(columns={\"Unnamed: 0\": \"County\", \"Joseph R. \\nBiden\": \"Biden\", \"Donald J. \\nTrump*\": \"Trump\"}, inplace=True)\n",
    "cal_presidential = cal_presidential.drop(0).reset_index(drop=True)\n",
    "cal_presidential.head()"
   ]
  },
  {
   "cell_type": "code",
   "execution_count": 121,
   "metadata": {},
   "outputs": [
    {
     "name": "stdout",
     "output_type": "stream",
     "text": [
      "(59, 2)\n",
      "(59, 3)\n"
     ]
    },
    {
     "data": {
      "text/html": [
       "<div>\n",
       "<style scoped>\n",
       "    .dataframe tbody tr th:only-of-type {\n",
       "        vertical-align: middle;\n",
       "    }\n",
       "\n",
       "    .dataframe tbody tr th {\n",
       "        vertical-align: top;\n",
       "    }\n",
       "\n",
       "    .dataframe thead th {\n",
       "        text-align: right;\n",
       "    }\n",
       "</style>\n",
       "<table border=\"1\" class=\"dataframe\">\n",
       "  <thead>\n",
       "    <tr style=\"text-align: right;\">\n",
       "      <th></th>\n",
       "      <th>County</th>\n",
       "      <th>Biden</th>\n",
       "      <th>Trump</th>\n",
       "      <th>Biden percentage</th>\n",
       "      <th>Trump percentage</th>\n",
       "    </tr>\n",
       "  </thead>\n",
       "  <tbody>\n",
       "    <tr>\n",
       "      <th>54</th>\n",
       "      <td>TUOLUMNE</td>\n",
       "      <td>11978</td>\n",
       "      <td>17689</td>\n",
       "      <td>39.4%</td>\n",
       "      <td>58.2%</td>\n",
       "    </tr>\n",
       "    <tr>\n",
       "      <th>55</th>\n",
       "      <td>VENTURA</td>\n",
       "      <td>251388</td>\n",
       "      <td>162207</td>\n",
       "      <td>59.5%</td>\n",
       "      <td>38.4%</td>\n",
       "    </tr>\n",
       "    <tr>\n",
       "      <th>56</th>\n",
       "      <td>YOLO</td>\n",
       "      <td>67598</td>\n",
       "      <td>27292</td>\n",
       "      <td>69.5%</td>\n",
       "      <td>28.1%</td>\n",
       "    </tr>\n",
       "    <tr>\n",
       "      <th>57</th>\n",
       "      <td>YUBA</td>\n",
       "      <td>11230</td>\n",
       "      <td>17676</td>\n",
       "      <td>37.7%</td>\n",
       "      <td>59.3%</td>\n",
       "    </tr>\n",
       "    <tr>\n",
       "      <th>58</th>\n",
       "      <td>STATE TOTALS</td>\n",
       "      <td>11110250</td>\n",
       "      <td>6006429</td>\n",
       "      <td>63.5%</td>\n",
       "      <td>34.3%</td>\n",
       "    </tr>\n",
       "  </tbody>\n",
       "</table>\n",
       "</div>"
      ],
      "text/plain": [
       "          County     Biden    Trump Biden percentage Trump percentage\n",
       "54      TUOLUMNE     11978    17689            39.4%            58.2%\n",
       "55       VENTURA    251388   162207            59.5%            38.4%\n",
       "56          YOLO     67598    27292            69.5%            28.1%\n",
       "57          YUBA     11230    17676            37.7%            59.3%\n",
       "58  STATE TOTALS  11110250  6006429            63.5%            34.3%"
      ]
     },
     "execution_count": 121,
     "metadata": {},
     "output_type": "execute_result"
    }
   ],
   "source": [
    "print (cal_percentages.shape)\n",
    "print (cal_presidential.shape)\n",
    "cal_dataframe = pd.merge(cal_presidential, cal_percentages, left_index=True, right_index=True)\n",
    "cal_dataframe['County'] = cal_dataframe['County'].apply(lambda x: x.upper())\n",
    "cal_dataframe.tail()"
   ]
  },
  {
   "cell_type": "code",
   "execution_count": 122,
   "metadata": {},
   "outputs": [
    {
     "data": {
      "text/html": [
       "<div>\n",
       "<style scoped>\n",
       "    .dataframe tbody tr th:only-of-type {\n",
       "        vertical-align: middle;\n",
       "    }\n",
       "\n",
       "    .dataframe tbody tr th {\n",
       "        vertical-align: top;\n",
       "    }\n",
       "\n",
       "    .dataframe thead th {\n",
       "        text-align: right;\n",
       "    }\n",
       "</style>\n",
       "<table border=\"1\" class=\"dataframe\">\n",
       "  <thead>\n",
       "    <tr style=\"text-align: right;\">\n",
       "      <th></th>\n",
       "      <th>County</th>\n",
       "      <th>Biden</th>\n",
       "      <th>Trump</th>\n",
       "      <th>Biden percentage</th>\n",
       "      <th>Trump percentage</th>\n",
       "    </tr>\n",
       "  </thead>\n",
       "  <tbody>\n",
       "    <tr>\n",
       "      <th>54</th>\n",
       "      <td>TUOLUMNE</td>\n",
       "      <td>11978</td>\n",
       "      <td>17689</td>\n",
       "      <td>39.4</td>\n",
       "      <td>58.2</td>\n",
       "    </tr>\n",
       "    <tr>\n",
       "      <th>55</th>\n",
       "      <td>VENTURA</td>\n",
       "      <td>251388</td>\n",
       "      <td>162207</td>\n",
       "      <td>59.5</td>\n",
       "      <td>38.4</td>\n",
       "    </tr>\n",
       "    <tr>\n",
       "      <th>56</th>\n",
       "      <td>YOLO</td>\n",
       "      <td>67598</td>\n",
       "      <td>27292</td>\n",
       "      <td>69.5</td>\n",
       "      <td>28.1</td>\n",
       "    </tr>\n",
       "    <tr>\n",
       "      <th>57</th>\n",
       "      <td>YUBA</td>\n",
       "      <td>11230</td>\n",
       "      <td>17676</td>\n",
       "      <td>37.7</td>\n",
       "      <td>59.3</td>\n",
       "    </tr>\n",
       "    <tr>\n",
       "      <th>58</th>\n",
       "      <td>STATE TOTALS</td>\n",
       "      <td>11110250</td>\n",
       "      <td>6006429</td>\n",
       "      <td>63.5</td>\n",
       "      <td>34.3</td>\n",
       "    </tr>\n",
       "  </tbody>\n",
       "</table>\n",
       "</div>"
      ],
      "text/plain": [
       "          County     Biden    Trump  Biden percentage  Trump percentage\n",
       "54      TUOLUMNE     11978    17689              39.4              58.2\n",
       "55       VENTURA    251388   162207              59.5              38.4\n",
       "56          YOLO     67598    27292              69.5              28.1\n",
       "57          YUBA     11230    17676              37.7              59.3\n",
       "58  STATE TOTALS  11110250  6006429              63.5              34.3"
      ]
     },
     "execution_count": 122,
     "metadata": {},
     "output_type": "execute_result"
    }
   ],
   "source": [
    "cal_dataframe['Biden percentage'] = cal_dataframe['Biden percentage'].str.split('%').str.join('')\n",
    "cal_dataframe['Trump percentage'] = cal_dataframe['Trump percentage'].str.split('%').str.join('')\n",
    "cols = cal_dataframe.columns.drop('County')\n",
    "cal_dataframe[cols] = cal_dataframe[cols].apply(pd.to_numeric)\n",
    "cal_dataframe.tail()"
   ]
  },
  {
   "cell_type": "code",
   "execution_count": 123,
   "metadata": {},
   "outputs": [
    {
     "data": {
      "text/html": [
       "<div>\n",
       "<style scoped>\n",
       "    .dataframe tbody tr th:only-of-type {\n",
       "        vertical-align: middle;\n",
       "    }\n",
       "\n",
       "    .dataframe tbody tr th {\n",
       "        vertical-align: top;\n",
       "    }\n",
       "\n",
       "    .dataframe thead th {\n",
       "        text-align: right;\n",
       "    }\n",
       "</style>\n",
       "<table border=\"1\" class=\"dataframe\">\n",
       "  <thead>\n",
       "    <tr style=\"text-align: right;\">\n",
       "      <th></th>\n",
       "      <th>County</th>\n",
       "      <th>Trump</th>\n",
       "      <th>Biden</th>\n",
       "      <th>Total Votes</th>\n",
       "      <th>Total Voters</th>\n",
       "    </tr>\n",
       "  </thead>\n",
       "  <tbody>\n",
       "    <tr>\n",
       "      <th>0</th>\n",
       "      <td>All COUNTIES</td>\n",
       "      <td>5890347</td>\n",
       "      <td>5259126</td>\n",
       "      <td>11315056</td>\n",
       "      <td>16955519</td>\n",
       "    </tr>\n",
       "    <tr>\n",
       "      <th>1</th>\n",
       "      <td>ANDERSON</td>\n",
       "      <td>15110</td>\n",
       "      <td>3955</td>\n",
       "      <td>19227</td>\n",
       "      <td>29274</td>\n",
       "    </tr>\n",
       "    <tr>\n",
       "      <th>2</th>\n",
       "      <td>ANDREWS</td>\n",
       "      <td>4943</td>\n",
       "      <td>850</td>\n",
       "      <td>5863</td>\n",
       "      <td>10272</td>\n",
       "    </tr>\n",
       "    <tr>\n",
       "      <th>3</th>\n",
       "      <td>ANGELINA</td>\n",
       "      <td>25076</td>\n",
       "      <td>9143</td>\n",
       "      <td>34574</td>\n",
       "      <td>53166</td>\n",
       "    </tr>\n",
       "    <tr>\n",
       "      <th>4</th>\n",
       "      <td>ARANSAS</td>\n",
       "      <td>9239</td>\n",
       "      <td>2916</td>\n",
       "      <td>12290</td>\n",
       "      <td>18306</td>\n",
       "    </tr>\n",
       "  </tbody>\n",
       "</table>\n",
       "</div>"
      ],
      "text/plain": [
       "          County     Trump     Biden Total Votes Total Voters\n",
       "0  All COUNTIES   5890347   5259126    11315056     16955519 \n",
       "1      ANDERSON     15110      3955       19227        29274 \n",
       "2       ANDREWS      4943       850        5863        10272 \n",
       "3      ANGELINA     25076      9143       34574        53166 \n",
       "4       ARANSAS      9239      2916       12290        18306 "
      ]
     },
     "execution_count": 123,
     "metadata": {},
     "output_type": "execute_result"
    }
   ],
   "source": [
    "tex_presidential = tex_presidential.dropna(axis='columns')\n",
    "tex_presidential = tex_presidential.rename(columns={\"DONALD J. TRUMP/MICHAEL R. PENCE (I)\":\"Trump\", \"JOSEPH R. BIDEN/KAMALA D. HARRIS\":\"Biden\"})\n",
    "tex_presidential = tex_presidential.drop(columns = {'Turnout'})\n",
    "tex_presidential = tex_presidential.replace(',','', regex=True)\n",
    "\n",
    "tex_presidential.head()"
   ]
  },
  {
   "cell_type": "markdown",
   "metadata": {},
   "source": [
    "Note that there is an extra \\xa0 string at the end of all the elements in the table "
   ]
  },
  {
   "cell_type": "code",
   "execution_count": 124,
   "metadata": {},
   "outputs": [
    {
     "data": {
      "text/plain": [
       "'All COUNTIES\\xa0'"
      ]
     },
     "execution_count": 124,
     "metadata": {},
     "output_type": "execute_result"
    }
   ],
   "source": [
    "tex_presidential.loc[0,'County']"
   ]
  },
  {
   "cell_type": "markdown",
   "metadata": {},
   "source": [
    "#### Let's remove the extra string element from all of our data"
   ]
  },
  {
   "cell_type": "code",
   "execution_count": 125,
   "metadata": {},
   "outputs": [],
   "source": [
    "tex_presidential['County'] = tex_presidential['County'].str.split().str.join(' ')\n",
    "tex_presidential['Trump'] = tex_presidential['Trump'].str.split().str.join(' ')\n",
    "tex_presidential['Biden'] = tex_presidential['Biden'].str.split().str.join(' ')\n",
    "tex_presidential['Total Votes'] = tex_presidential['Total Votes'].str.split().str.join(' ')\n",
    "tex_presidential['Total Voters'] = tex_presidential['Total Voters'].str.split().str.join(' ')\n",
    "# # tex_presidential['Turnout'] = tex_presidential['Turnout'].str.split().str.join(' ')"
   ]
  },
  {
   "cell_type": "code",
   "execution_count": 126,
   "metadata": {},
   "outputs": [
    {
     "data": {
      "text/plain": [
       "'All COUNTIES'"
      ]
     },
     "execution_count": 126,
     "metadata": {},
     "output_type": "execute_result"
    }
   ],
   "source": [
    "tex_presidential.loc[0, 'County']"
   ]
  },
  {
   "cell_type": "markdown",
   "metadata": {},
   "source": [
    "### Now let's convert the number columns to numeric so that we can perform basic algebraic operations"
   ]
  },
  {
   "cell_type": "code",
   "execution_count": 127,
   "metadata": {},
   "outputs": [],
   "source": [
    "cols = tex_presidential.columns.drop('County')\n",
    "tex_presidential[cols] = tex_presidential[cols].apply(pd.to_numeric)\n",
    "# tex_presidential.head()"
   ]
  },
  {
   "cell_type": "code",
   "execution_count": 128,
   "metadata": {},
   "outputs": [],
   "source": [
    "tex_presidential['Biden percentage'] = 100*round(tex_presidential['Biden']/tex_presidential['Total Votes'], 4)\n",
    "tex_presidential['Trump percentage'] = 100*round(tex_presidential['Trump']/tex_presidential['Total Votes'], 4)"
   ]
  },
  {
   "cell_type": "code",
   "execution_count": 129,
   "metadata": {},
   "outputs": [],
   "source": [
    "tex_dataframe = tex_presidential.drop(columns={'Total Voters', 'Total Votes'})\n",
    "tex_state_total = tex_presidential.iloc[0]\n",
    "tex_dataframe = tex_dataframe.drop(0).reset_index(drop=True)\n",
    "# tex_dataframe = "
   ]
  },
  {
   "cell_type": "code",
   "execution_count": 130,
   "metadata": {},
   "outputs": [],
   "source": [
    "cal_state_total = cal_dataframe.iloc[58]\n",
    "cal_dataframe = cal_dataframe.drop(58)"
   ]
  },
  {
   "cell_type": "code",
   "execution_count": 131,
   "metadata": {},
   "outputs": [],
   "source": [
    "from IPython.display import display_html\n",
    "def display_side_by_side(*args):\n",
    "    html_str=''\n",
    "    for df in args:\n",
    "        html_str+=df.to_html()\n",
    "    display_html(html_str.replace('table','table style=\"display:inline\"'),raw=True)"
   ]
  },
  {
   "cell_type": "markdown",
   "metadata": {},
   "source": [
    "### 2.2 California interactive map"
   ]
  },
  {
   "cell_type": "code",
   "execution_count": 136,
   "metadata": {},
   "outputs": [],
   "source": [
    "import matplotlib as mpl\n",
    "bool_df = cal_dataframe['Biden percentage']>cal_dataframe['Trump percentage']\n",
    "color_list = bool_df.replace([True,False],['navy', 'crimson'])\n",
    "cal_merged['colors'] = color_list"
   ]
  },
  {
   "cell_type": "code",
   "execution_count": 88,
   "metadata": {},
   "outputs": [
    {
     "data": {
      "application/vnd.jupyter.widget-view+json": {
       "model_id": "8bc455dd34304254b9d097d840805bb6",
       "version_major": 2,
       "version_minor": 0
      },
      "text/plain": [
       "Canvas(toolbar=Toolbar(toolitems=[('Home', 'Reset original view', 'home', 'home'), ('Back', 'Back to previous …"
      ]
     },
     "metadata": {},
     "output_type": "display_data"
    }
   ],
   "source": [
    "%matplotlib widget\n",
    "\n",
    "fig, ax = plt.subplots(figsize=(10,10))\n",
    "ax.set_aspect(1)\n",
    "\n",
    "x = np.array(cal_centroid.x)\n",
    "y = np.array(cal_centroid.y)\n",
    "names = cal_merged['CTYNAME'].values\n",
    "population = cal_merged['POPESTIMATE2019'].values\n",
    "cal_biden_pcntg = cal_dataframe['Biden percentage'].values\n",
    "cal_trump_pcntg = cal_dataframe['Trump percentage'].values\n",
    "\n",
    "# print (color_list.values)\n",
    "# cmap = plt.cm.get_cmap('RdBu', 2)\n",
    "cmap = mpl.colors.ListedColormap(['maroon','royalblue'])\n",
    "\n",
    "cal_merged.plot(column='colors', cmap=cmap, alpha=0.7, ax = ax)\n",
    "\n",
    "# cal_merged.plot(ax = ax, color = list(zip(cal_dataframe['Trump percentage'].values/100,np.zeros(len(cal_dataframe)),cal_dataframe['Biden percentage'].values/100,0.8*np.ones(len(cal_dataframe)))))\n",
    "sc=ax.scatter(x, y,  s=2000*cal_merged['POPESTIMATE2019']/(max(cal_merged['POPESTIMATE2019'])-min(cal_merged['POPESTIMATE2019'])), fc=(1,1,1,0.2), edgecolor='White')\n",
    "cal_merged.boundary.plot( ax = ax, color='Black', linewidth = 1)\n",
    "cal_merged.apply(lambda x: ax.annotate(text=x.CTYNAME, xy=x.geometry.centroid.coords[0], ha='center', fontsize=6),axis=1);\n",
    "\n",
    "annot = ax.annotate(\"\", xy=(0,0), xytext=(20,20),textcoords=\"offset points\",\n",
    "                    bbox=dict(boxstyle=\"round\", fc=\"w\"),\n",
    "                    arrowprops=dict(arrowstyle=\"-\"))\n",
    "annot.set_visible(False)\n",
    "\n",
    "\n",
    "\n",
    "def update_annot(ind):\n",
    "\n",
    "    pos = sc.get_offsets()[ind[\"ind\"][0]]\n",
    "    annot.xy = pos\n",
    "#     text = \"{}, {}\".format(\" \".join(list(map(str,ind[\"ind\"]))), \n",
    "#                            \" \".join([names[n] for n in ind[\"ind\"]]))\n",
    "    text = \"County: {}\\nPopulation: {}\\nBiden: {}\\nTrump: {}\".format(\" \".join([names[n] for n in ind[\"ind\"]]),\n",
    "                                                                     \" \".join([str(population[n]) for n in ind[\"ind\"]]), \n",
    "                                                                     \" \".join([str(cal_biden_pcntg[n]) for n in ind[\"ind\"]]),\n",
    "                                                                     \" \" .join([str(cal_trump_pcntg[n]) for n in ind[\"ind\"]]),\n",
    "                                                                     )\n",
    "    \n",
    "    annot.set_text(text)\n",
    "#     annot.get_bbox_patch().set_facecolor(cmap(norm(c[ind[\"ind\"][0]])))\n",
    "    annot.get_bbox_patch().set_alpha(1)\n",
    "def hover(event):\n",
    "    vis = annot.get_visible()\n",
    "    if event.inaxes == ax:\n",
    "        cont, ind = sc.contains(event)\n",
    "        if cont:\n",
    "            update_annot(ind)\n",
    "            annot.set_visible(True)\n",
    "            fig.canvas.draw_idle()\n",
    "        else:\n",
    "            if vis:\n",
    "                annot.set_visible(False)\n",
    "                fig.canvas.draw_idle()\n",
    "\n",
    "fig.canvas.mpl_connect(\"motion_notify_event\", hover)\n",
    "\n",
    "plt.show()\n",
    "plt.show()"
   ]
  },
  {
   "cell_type": "markdown",
   "metadata": {},
   "source": [
    "#### We see that the largest blue and red counties are Kern and Los Angeles in the state of California. Now let's make sure that is the case."
   ]
  },
  {
   "cell_type": "code",
   "execution_count": 137,
   "metadata": {},
   "outputs": [],
   "source": [
    "def largest_rb_county(dataframe):\n",
    "    blue_max = max(dataframe[dataframe['colors']=='navy']['POPESTIMATE2019'])\n",
    "    red_max = max(dataframe[dataframe['colors']!='navy']['POPESTIMATE2019'])\n",
    "    largest_b_county = dataframe[dataframe['POPESTIMATE2019']==blue_max]['CTYNAME']\n",
    "    largest_r_county = dataframe[dataframe['POPESTIMATE2019']==red_max]['CTYNAME']\n",
    "    return largest_b_county, largest_r_county"
   ]
  },
  {
   "cell_type": "code",
   "execution_count": 138,
   "metadata": {},
   "outputs": [],
   "source": [
    "b_county, r_county = largest_rb_county(cal_merged)"
   ]
  },
  {
   "cell_type": "code",
   "execution_count": 139,
   "metadata": {},
   "outputs": [
    {
     "name": "stdout",
     "output_type": "stream",
     "text": [
      "18    LOS ANGELES\n",
      "Name: CTYNAME, dtype: object\n",
      "14    KERN\n",
      "Name: CTYNAME, dtype: object\n"
     ]
    }
   ],
   "source": [
    "print (b_county)\n",
    "print (r_county)"
   ]
  },
  {
   "cell_type": "markdown",
   "metadata": {},
   "source": [
    "### 2.2 Texas interactive map"
   ]
  },
  {
   "cell_type": "markdown",
   "metadata": {},
   "source": [
    "#### Now let's look at the largest red and blue ocunties in Texas"
   ]
  },
  {
   "cell_type": "code",
   "execution_count": 141,
   "metadata": {},
   "outputs": [],
   "source": [
    "# print (np.where((tex_merged['CTYNAME']==tex_dataframe['County'])==False))\n",
    "# print (tex_merged.loc[141, 'CTYNAME'])\n",
    "# print (tex_dataframe.loc[141, 'County'])\n",
    "\n",
    "bool_df = tex_dataframe['Biden percentage']>tex_dataframe['Trump percentage']\n",
    "color_list = bool_df.replace([True,False],['navy', 'crimson'])\n",
    "tex_merged['colors'] = color_list"
   ]
  },
  {
   "cell_type": "code",
   "execution_count": 85,
   "metadata": {},
   "outputs": [
    {
     "data": {
      "application/vnd.jupyter.widget-view+json": {
       "model_id": "4a74d53a8787404ca44fcadbc0f32633",
       "version_major": 2,
       "version_minor": 0
      },
      "text/plain": [
       "Canvas(toolbar=Toolbar(toolitems=[('Home', 'Reset original view', 'home', 'home'), ('Back', 'Back to previous …"
      ]
     },
     "metadata": {},
     "output_type": "display_data"
    }
   ],
   "source": [
    "%matplotlib widget\n",
    "\n",
    "fig, ax = plt.subplots(figsize=(10,10))\n",
    "ax.set_aspect(1)\n",
    "\n",
    "x = np.array(tex_centroid.x)\n",
    "y = np.array(tex_centroid.y)\n",
    "names = tex_merged['CTYNAME'].values\n",
    "population = tex_merged['POPESTIMATE2019'].values\n",
    "tex_biden_pcntg = tex_dataframe['Biden percentage'].values\n",
    "tex_trump_pcntg = tex_dataframe['Trump percentage'].values\n",
    "\n",
    "\n",
    "\n",
    "cmap = mpl.colors.ListedColormap(['maroon','royalblue'])\n",
    "\n",
    "tex_merged.plot(column='colors', cmap=cmap, alpha=0.7, ax = ax)\n",
    "tex_merged.apply(lambda x: ax.annotate(text=x.CTYNAME, xy=x.geometry.centroid.coords[0], ha='center', fontsize=5),axis=1);\n",
    "sc=ax.scatter(x, y,  s=2000*tex_merged['POPESTIMATE2019']/(max(tex_merged['POPESTIMATE2019'])-min(tex_merged['POPESTIMATE2019'])), fc=(1,1,1,0.2), edgecolor='White')\n",
    "# sc=ax.scatter(centroids_CL.x, centroids_CL.y, fc=(0.1,0.1,0.8,0.2), ec=(0,0,0,0.2), s=20000*counties_df_cal['POPESTIMATE2019']/max(counties_df_cal['POPESTIMATE2019']))\n",
    "tex_merged.boundary.plot( ax = ax, color='Black', linewidth = 1, alpha=0.5)\n",
    "# cal_merged.plot( alpha=0.1, ax = ax, color='Green', linewidth = 1)\n",
    "# cal_merged.apply(lambda x: ax.annotate(s=x.CTYNAME, xy=x.geometry.centroid.coords[0], ha='center', fontsize=10),axis=1);\n",
    "\n",
    "annot = ax.annotate(\"\", xy=(0,0), xytext=(20,20),textcoords=\"offset points\",\n",
    "                    bbox=dict(boxstyle=\"round\", fc=\"w\"),\n",
    "                    arrowprops=dict(arrowstyle=\"-\"))\n",
    "annot.set_visible(False)\n",
    "\n",
    "def update_annot(ind):\n",
    "\n",
    "    pos = sc.get_offsets()[ind[\"ind\"][0]]\n",
    "    annot.xy = pos\n",
    "#     text = \"{}, {}\".format(\" \".join(list(map(str,ind[\"ind\"]))), \n",
    "#                            \" \".join([names[n] for n in ind[\"ind\"]]))\n",
    "\n",
    "    text = \"County: {}\\nPopulation: {}\\nBiden: {}\\nTrump: {}\".format(\" \".join([names[n] for n in ind[\"ind\"]]),\n",
    "                                                                     \" \".join([str(population[n]) for n in ind[\"ind\"]]), \n",
    "                                                                     \" \".join([str(tex_biden_pcntg[n]) for n in ind[\"ind\"]]),\n",
    "                                                                     \" \" .join([str(tex_trump_pcntg[n]) for n in ind[\"ind\"]]),\n",
    "                                                                     )\n",
    "    \n",
    "    annot.set_text(text)\n",
    "#     annot.get_bbox_patch().set_facecolor(cmap(norm(c[ind[\"ind\"][0]])))\n",
    "    annot.get_bbox_patch().set_alpha(0.9)\n",
    "def hover(event):\n",
    "    vis = annot.get_visible()\n",
    "    if event.inaxes == ax:\n",
    "        cont, ind = sc.contains(event)\n",
    "        if cont:\n",
    "            update_annot(ind)\n",
    "            annot.set_visible(True)\n",
    "            fig.canvas.draw_idle()\n",
    "        else:\n",
    "            if vis:\n",
    "                annot.set_visible(False)\n",
    "                fig.canvas.draw_idle()\n",
    "\n",
    "fig.canvas.mpl_connect(\"motion_notify_event\", hover)\n",
    "\n",
    "plt.show()\n",
    "plt.show()"
   ]
  },
  {
   "cell_type": "code",
   "execution_count": 142,
   "metadata": {},
   "outputs": [],
   "source": [
    "b_county, r_county = largest_rb_county(tex_merged)"
   ]
  },
  {
   "cell_type": "code",
   "execution_count": 143,
   "metadata": {},
   "outputs": [
    {
     "name": "stdout",
     "output_type": "stream",
     "text": [
      "100    HARRIS\n",
      "Name: CTYNAME, dtype: object\n",
      "42    COLLIN\n",
      "Name: CTYNAME, dtype: object\n"
     ]
    }
   ],
   "source": [
    "print (b_county)\n",
    "print (r_county)"
   ]
  },
  {
   "cell_type": "markdown",
   "metadata": {},
   "source": [
    "#### The largest red and blue counties in texas are Collin and Harris counties"
   ]
  },
  {
   "cell_type": "markdown",
   "metadata": {},
   "source": [
    "### 3. Four square venues for each county"
   ]
  },
  {
   "cell_type": "markdown",
   "metadata": {},
   "source": [
    "#### Let's start with the largest blue counties in each state. Los Angeles county in California and Harris county in Texas."
   ]
  },
  {
   "cell_type": "code",
   "execution_count": 144,
   "metadata": {},
   "outputs": [
    {
     "name": "stdout",
     "output_type": "stream",
     "text": [
      "Your credentails:\n",
      "CLIENT_ID: ITPTFVZXK1ZNFNYDXQUIXOIBX4UTD0Q5R55AMROGVLCWFMZ5\n",
      "CLIENT_SECRET:OXXKWPXMHESTLBEVMWK2VTRS0CKWNES0ZKEBMJWYTE0CTBCW\n"
     ]
    }
   ],
   "source": [
    "CLIENT_ID = 'ITPTFVZXK1ZNFNYDXQUIXOIBX4UTD0Q5R55AMROGVLCWFMZ5' # your Foursquare ID\n",
    "CLIENT_SECRET = 'OXXKWPXMHESTLBEVMWK2VTRS0CKWNES0ZKEBMJWYTE0CTBCW' # your Foursquare Secret\n",
    "VERSION = '20180605' # Foursquare API version\n",
    "LIMIT = 100 # A default Foursquare API limit value\n",
    "\n",
    "print('Your credentails:')\n",
    "print('CLIENT_ID: ' + CLIENT_ID)\n",
    "print('CLIENT_SECRET:' + CLIENT_SECRET)"
   ]
  },
  {
   "cell_type": "code",
   "execution_count": null,
   "metadata": {},
   "outputs": [],
   "source": []
  }
 ],
 "metadata": {
  "kernelspec": {
   "display_name": "Python 3",
   "language": "python",
   "name": "python3"
  },
  "language_info": {
   "codemirror_mode": {
    "name": "ipython",
    "version": 3
   },
   "file_extension": ".py",
   "mimetype": "text/x-python",
   "name": "python",
   "nbconvert_exporter": "python",
   "pygments_lexer": "ipython3",
   "version": "3.7.7"
  }
 },
 "nbformat": 4,
 "nbformat_minor": 4
}
