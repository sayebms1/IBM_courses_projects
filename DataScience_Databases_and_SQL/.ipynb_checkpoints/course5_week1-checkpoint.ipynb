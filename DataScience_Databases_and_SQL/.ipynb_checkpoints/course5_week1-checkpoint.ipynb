{
 "cells": [
  {
   "cell_type": "code",
   "execution_count": 3,
   "metadata": {},
   "outputs": [
    {
     "name": "stdout",
     "output_type": "stream",
     "text": [
      "Defaulting to user installation because normal site-packages is not writeable\n",
      "Collecting ipython-sql\n",
      "  Downloading ipython_sql-0.4.0-py3-none-any.whl (19 kB)\n",
      "Collecting prettytable<1\n",
      "  Downloading prettytable-0.7.2.tar.bz2 (21 kB)\n",
      "Requirement already satisfied: six in /Users/sayebms1/Library/Python/3.7/lib/python/site-packages (from ipython-sql) (1.14.0)\n",
      "Requirement already satisfied: ipython-genutils>=0.1.0 in /Users/sayebms1/Library/Python/3.7/lib/python/site-packages (from ipython-sql) (0.2.0)\n",
      "Collecting sqlparse\n",
      "  Downloading sqlparse-0.3.1-py2.py3-none-any.whl (40 kB)\n",
      "\u001b[K     |████████████████████████████████| 40 kB 872 kB/s eta 0:00:01\n",
      "\u001b[?25hCollecting sqlalchemy>=0.6.7\n",
      "  Downloading SQLAlchemy-1.3.19-cp37-cp37m-macosx_10_14_x86_64.whl (1.2 MB)\n",
      "\u001b[K     |████████████████████████████████| 1.2 MB 1.5 MB/s eta 0:00:01\n",
      "\u001b[?25hRequirement already satisfied: ipython>=1.0 in /Users/sayebms1/Library/Python/3.7/lib/python/site-packages (from ipython-sql) (7.13.0)\n",
      "Requirement already satisfied: setuptools>=18.5 in /usr/local/lib/python3.7/site-packages (from ipython>=1.0->ipython-sql) (46.0.0)\n",
      "Requirement already satisfied: jedi>=0.10 in /Users/sayebms1/Library/Python/3.7/lib/python/site-packages (from ipython>=1.0->ipython-sql) (0.16.0)\n",
      "Requirement already satisfied: pickleshare in /Users/sayebms1/Library/Python/3.7/lib/python/site-packages (from ipython>=1.0->ipython-sql) (0.7.5)\n",
      "Requirement already satisfied: pexpect; sys_platform != \"win32\" in /Users/sayebms1/Library/Python/3.7/lib/python/site-packages (from ipython>=1.0->ipython-sql) (4.8.0)\n",
      "Requirement already satisfied: backcall in /Users/sayebms1/Library/Python/3.7/lib/python/site-packages (from ipython>=1.0->ipython-sql) (0.1.0)\n",
      "Requirement already satisfied: prompt-toolkit!=3.0.0,!=3.0.1,<3.1.0,>=2.0.0 in /Users/sayebms1/Library/Python/3.7/lib/python/site-packages (from ipython>=1.0->ipython-sql) (3.0.4)\n",
      "Requirement already satisfied: appnope; sys_platform == \"darwin\" in /Users/sayebms1/Library/Python/3.7/lib/python/site-packages (from ipython>=1.0->ipython-sql) (0.1.0)\n",
      "Requirement already satisfied: traitlets>=4.2 in /Users/sayebms1/Library/Python/3.7/lib/python/site-packages (from ipython>=1.0->ipython-sql) (4.3.3)\n",
      "Requirement already satisfied: decorator in /Users/sayebms1/Library/Python/3.7/lib/python/site-packages (from ipython>=1.0->ipython-sql) (4.4.2)\n",
      "Requirement already satisfied: pygments in /Users/sayebms1/Library/Python/3.7/lib/python/site-packages (from ipython>=1.0->ipython-sql) (2.6.1)\n",
      "Requirement already satisfied: parso>=0.5.2 in /Users/sayebms1/Library/Python/3.7/lib/python/site-packages (from jedi>=0.10->ipython>=1.0->ipython-sql) (0.6.2)\n",
      "Requirement already satisfied: ptyprocess>=0.5 in /Users/sayebms1/Library/Python/3.7/lib/python/site-packages (from pexpect; sys_platform != \"win32\"->ipython>=1.0->ipython-sql) (0.6.0)\n",
      "Requirement already satisfied: wcwidth in /Users/sayebms1/Library/Python/3.7/lib/python/site-packages (from prompt-toolkit!=3.0.0,!=3.0.1,<3.1.0,>=2.0.0->ipython>=1.0->ipython-sql) (0.1.8)\n",
      "Building wheels for collected packages: prettytable\n",
      "  Building wheel for prettytable (setup.py) ... \u001b[?25ldone\n",
      "\u001b[?25h  Created wheel for prettytable: filename=prettytable-0.7.2-py3-none-any.whl size=13698 sha256=f88e0cbe98df4d5acd0047db3051513110883be2a4777a6ac04391dda7f3393c\n",
      "  Stored in directory: /Users/sayebms1/Library/Caches/pip/wheels/8c/76/0b/eb9eb3da7e2335e3577e3f96a0ae9f74f206e26457bd1a2bc8\n",
      "Successfully built prettytable\n",
      "Installing collected packages: prettytable, sqlparse, sqlalchemy, ipython-sql\n",
      "Successfully installed ipython-sql-0.4.0 prettytable-0.7.2 sqlalchemy-1.3.19 sqlparse-0.3.1\n"
     ]
    }
   ],
   "source": [
    "!pip3 install ipython-sql"
   ]
  },
  {
   "cell_type": "code",
   "execution_count": 6,
   "metadata": {},
   "outputs": [
    {
     "name": "stderr",
     "output_type": "stream",
     "text": [
      "UsageError: Line magic function `%drop` not found.\n"
     ]
    }
   ],
   "source": [
    "%%%sql\n",
    "%drop table COUNTRY; create table COUNTRY (    ID integer PRIMARY KEY NOT NULL,    CCODE char(2),    NAME varchar(60)    );"
   ]
  },
  {
   "cell_type": "code",
   "execution_count": null,
   "metadata": {},
   "outputs": [],
   "source": []
  }
 ],
 "metadata": {
  "kernelspec": {
   "display_name": "Python 3",
   "language": "python",
   "name": "python3"
  },
  "language_info": {
   "codemirror_mode": {
    "name": "ipython",
    "version": 3
   },
   "file_extension": ".py",
   "mimetype": "text/x-python",
   "name": "python",
   "nbconvert_exporter": "python",
   "pygments_lexer": "ipython3",
   "version": "3.7.7"
  }
 },
 "nbformat": 4,
 "nbformat_minor": 4
}
